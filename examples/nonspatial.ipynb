{
 "cells": [
  {
   "attachments": {},
   "cell_type": "markdown",
   "id": "32841cf9-925f-4bfd-9905-bfe293412e0b",
   "metadata": {},
   "source": [
    "## Introduction\n",
    "\n",
    "For areal spatial data, the spatial neighborhood graph is used to indicate proximity, and is required for all spatial analysis methods in the `pysal` package suite. One of the methods to find the spatial neighborhood graph is $k$ nearest neighbors, which is also commonly used in gene expression PCA space for graph-based clustering of cells in non-spatial scRNA-seq data. Then, what if we use the $k$ nearest neighbors graph in PCA space rather than histological space for \"spatial\" analyses for non-spatial scRNA-seq data?\n",
    "\n",
    "Here, were try such an analysis on a human peripheral blood mononuclear cells (PBMC) scRNA-seq dataset, which doesn't originally have histological spatial organization.\n",
    "\n",
    "**Note**: This notebook has an [accompanying vignette](https://pachterlab.github.io/voyager/articles/nonspatial.html) in R, so we try to match the results as well as we can.\n",
    "\n",
    "**Note**: Before running this notebook, make sure you have [Scanpy](https://scanpy.readthedocs.io/en/stable/), [igraph](https://python.igraph.org/en/stable/), and [leidenalg](https://leidenalg.readthedocs.io/en/stable/) installed. These packages can be installed via `pip install \"scanpy[leiden]\"`."
   ]
  },
  {
   "cell_type": "markdown",
   "id": "04330cf5-f9c2-4d6c-b450-f7346810a7f1",
   "metadata": {},
   "source": [
    "We begin by importing the following packages."
   ]
  },
  {
   "cell_type": "code",
   "execution_count": null,
   "id": "265be619-6424-487c-bf7f-51e19df8d65d",
   "metadata": {},
   "outputs": [],
   "source": [
    "# Install gget\n",
    "!pip install -q --upgrade gget\n",
    "\n",
    "import voyagerpy as vp\n",
    "import numpy as np\n",
    "import pandas as pd\n",
    "import matplotlib\n",
    "from matplotlib import pyplot as plt\n",
    "import pathlib\n",
    "import scanpy as sc\n",
    "\n",
    "import gget\n",
    "\n",
    "plt.rcParams['figure.dpi'] = 120\n",
    "\n",
    "# Turn on matplotlib interactive mode so we don't need to explicitly call plt.show()\n",
    "_ = plt.ion()"
   ]
  },
  {
   "cell_type": "markdown",
   "id": "9e7bd694-9790-4d67-b345-4527ef9cc579",
   "metadata": {},
   "source": [
    "Here, we download the filtered [Cell Ranger gene count matrix](https://support.10xgenomics.com/single-cell-gene-expression/datasets/3.0.2/5k_pbmc_v3_nextgem) from the 10X website. The empty droplets have already been removed."
   ]
  },
  {
   "cell_type": "code",
   "execution_count": null,
   "id": "cdc08ac1-af70-4e45-9975-64f7f800843d",
   "metadata": {},
   "outputs": [],
   "source": [
    "import requests\n",
    "\n",
    "# Define the root directory and create it if necessary\n",
    "root_dir = pathlib.Path('data/nonspatial')\n",
    "\n",
    "root_dir.mkdir(parents=True, exist_ok=True)\n",
    "outs_dir = root_dir / 'filtered_feature_bc_matrix'\n",
    "\n",
    "# Download the gene count matrix\n",
    "tar_path = root_dir / '5kpbmc.tar.gz'\n",
    "url_reads = \"https://cf.10xgenomics.com/samples/cell-exp/3.0.2/5k_pbmc_v3_nextgem/5k_pbmc_v3_nextgem_filtered_feature_bc_matrix.tar.gz\"\n",
    "if not (outs_dir.exists() or tar_path.exists()):\n",
    "    res = requests.get(url_reads)\n",
    "    with tar_path.open('wb') as f:\n",
    "        f.write(res.content)\n",
    "\n",
    "# Decompress the downloaded files\n",
    "if not outs_dir.exists():\n",
    "    assert tar_path.exists(), f\"File {tar_path} does not exist!\"\n",
    "    !tar -xvf $tar_path -C $root_dir"
   ]
  },
  {
   "cell_type": "markdown",
   "id": "15f5955f-cc8b-41ba-8152-7f6f53d06f01",
   "metadata": {},
   "source": [
    "We now use VoyagerPy to read the data and create an AnnData object. We use `raw=False` since we downloaded the filtered gene count matrix."
   ]
  },
  {
   "cell_type": "code",
   "execution_count": null,
   "id": "c7fac7d5-5d8a-47b3-b67a-8b116c19a6cb",
   "metadata": {},
   "outputs": [],
   "source": [
    "adata = vp.read_10x_counts(root_dir, raw=False, datatype=\"mtx\")"
   ]
  },
  {
   "cell_type": "markdown",
   "id": "b2225ce3-73a2-49e9-b948-094ef6c96d6e",
   "metadata": {},
   "source": [
    "## Quality control (QC)\n",
    "\n",
    "Here we perform some basic QC, to remove low quality cells with high proportion of mitochondrially encoded counts."
   ]
  },
  {
   "cell_type": "code",
   "execution_count": null,
   "id": "a11336cc-9912-44b6-8c8a-a9677a06194a",
   "metadata": {},
   "outputs": [],
   "source": [
    "is_mt = adata.var['symbol'].str.contains('^mt-', case=False).values\n",
    "vp.utils.add_per_cell_qcmetrics(adata, subsets={'mito': is_mt})\n",
    "adata.obs.head()"
   ]
  },
  {
   "cell_type": "markdown",
   "id": "320587a5-6ae7-411f-b177-73774a90f77d",
   "metadata": {},
   "source": [
    "The function `vp.utils.add_per_cell_qcmetrics` computes the total UMI counts detected per cell (the `sum` column in `adata.obs`), the number of genes detected per cell (the `detected` column). Further, since we passed in `subsets = {'mito': is_mt}`, it computes the `sum` and `detected` column on the subset where `is_mt` is `True`, as well as the percentage of mitochondrial counts in a cell."
   ]
  },
  {
   "cell_type": "markdown",
   "id": "e7df4a78-b7e3-4c71-b64e-87ef058f4fae",
   "metadata": {},
   "source": [
    "We can make a violin plot for these features."
   ]
  },
  {
   "cell_type": "code",
   "execution_count": null,
   "id": "d2d8abbb-f935-4207-9651-cebb2cbc1394",
   "metadata": {},
   "outputs": [],
   "source": [
    "qc_features = [\"sum\", \"detected\", \"subsets_mito_percent\"]\n",
    "\n",
    "_ = vp.plt.plot_barcode_data(\n",
    "    adata,\n",
    "    y=qc_features,\n",
    "    ncol=3,\n",
    ")"
   ]
  },
  {
   "cell_type": "raw",
   "id": "5b173eee-6747-409c-aa03-c944a267db54",
   "metadata": {},
   "source": [
    "Here, we make 2D histograms to show point density on the plot."
   ]
  },
  {
   "cell_type": "code",
   "execution_count": null,
   "id": "cfc22937-f659-4e63-a299-39800f5be224",
   "metadata": {},
   "outputs": [],
   "source": [
    "_ = vp.plt.plot_barcodes_bin2d(adata, x='sum', y='detected', cmin=1)"
   ]
  },
  {
   "cell_type": "code",
   "execution_count": null,
   "id": "21808cbd-bd2b-4ee1-be4e-84aaf8bef870",
   "metadata": {},
   "outputs": [],
   "source": [
    "_ = vp.plt.plot_barcodes_bin2d(adata, x='sum', y='subsets_mito_percent', cmin=1)"
   ]
  },
  {
   "cell_type": "markdown",
   "id": "f4d6028b-217a-4ae8-b1df-ccbe7b8130fa",
   "metadata": {},
   "source": [
    "Remove cells with $\\geq 20%$ mitochondrial counts. After we remove these cells, we remove all the genes with zero expression."
   ]
  },
  {
   "cell_type": "code",
   "execution_count": null,
   "id": "a4439122-3c65-4c80-aa4f-5c5c10149c86",
   "metadata": {},
   "outputs": [],
   "source": [
    "cells_to_keep = adata.obs[\"subsets_mito_percent\"] < 20\n",
    "\n",
    "_, genes_to_keep = np.where(adata[cells_to_keep, :].X.sum(axis=0) > 0)\n",
    "adata = adata[cells_to_keep, genes_to_keep].copy()\n",
    "adata"
   ]
  },
  {
   "cell_type": "markdown",
   "id": "0355b6d0-57f0-4dd6-aec5-e0b73261b5a7",
   "metadata": {},
   "source": [
    "## Basic non-spatial analysis"
   ]
  },
  {
   "cell_type": "markdown",
   "id": "67c26f2c-67fa-43f6-9d8a-18c60d05126c",
   "metadata": {},
   "source": [
    "Here we normalize the data, perform PCA, cluster the cells, and find marker genes for the clusters. In case we want to access the the original counts and the log-normalized counts later, we store these values in layers of of the AnnData object."
   ]
  },
  {
   "cell_type": "code",
   "execution_count": null,
   "id": "f815b7ef-b44b-4307-8eb7-2ded1049e1c6",
   "metadata": {},
   "outputs": [],
   "source": [
    "adata.X = adata.X.astype('float64')\n",
    "adata.layers['counts'] = adata.X.copy()\n",
    "\n",
    "# target_sum = adata.X.sum(axis=1).mean()\n",
    "# sc.pp.normalize_total(adata, target_sum=target_sum)\n",
    "# sc.pp.log1p(adata, base=2)\n",
    "\n",
    "# or, equivalently:\n",
    "vp.utils.log_norm_counts(adata, inplace=True)\n",
    "\n",
    "adata.layers['logcounts'] = adata.X.copy()"
   ]
  },
  {
   "cell_type": "markdown",
   "id": "14104bc1-34f2-47a1-95b9-3c43eeb60cac",
   "metadata": {},
   "source": [
    "We use the highly variable genes for PCA."
   ]
  },
  {
   "cell_type": "code",
   "execution_count": null,
   "id": "1445e765-82b6-4b12-9fc7-bd0566ddd887",
   "metadata": {},
   "outputs": [],
   "source": [
    "gene_var = vp.utils.model_gene_var(adata.layers['logcounts'], gene_names=adata.var_names)\n",
    "hvgs = vp.utils.get_top_hvgs(gene_var)\n",
    "adata.var['highly_variable'] = False\n",
    "adata.var.loc[hvgs, 'highly_variable'] = True"
   ]
  },
  {
   "cell_type": "markdown",
   "id": "3235fff2-2bb2-4a9e-b9d4-18c8ba024b8e",
   "metadata": {},
   "source": [
    "We can plot the variance explained by each principal component using the `elbow_plot` in the plotting module of VoyagerPy. We can then determine how many PC's we use for further analyses."
   ]
  },
  {
   "cell_type": "code",
   "execution_count": null,
   "id": "7049efb2-6aa2-4fb7-a691-a727a89d8b92",
   "metadata": {},
   "outputs": [],
   "source": [
    "adata.X = vp.utils.scale(adata.X, center=True)\n",
    "sc.tl.pca(adata, use_highly_variable=True, n_comps=30, random_state=1337)\n",
    "adata.X = adata.layers['logcounts'].copy()\n",
    "_ = vp.plt.elbow_plot(adata)"
   ]
  },
  {
   "cell_type": "markdown",
   "id": "c7894cd5-9e9d-46c7-8dd3-ba631da5f8da",
   "metadata": {},
   "source": [
    "Explained variance drops after the first and fourth components. We can plot the loadings of the genes with the largest (absolute) loadings of the top four PCs."
   ]
  },
  {
   "cell_type": "code",
   "execution_count": null,
   "id": "12019dab-a0ff-4582-9c9c-26018625b1d5",
   "metadata": {},
   "outputs": [],
   "source": [
    "_ = vp.plt.plot_dim_loadings(adata, components=4)"
   ]
  },
  {
   "cell_type": "markdown",
   "id": "3038ef06-0468-47cd-bb38-6505b70abcb0",
   "metadata": {},
   "source": [
    "To keep a little more information, we use the top 10 PCs, after which the explained variance levels off even more. We now cluster the cells by the first 10 PCs using Scanpy:"
   ]
  },
  {
   "cell_type": "code",
   "execution_count": null,
   "id": "2c9e2b4f-d3cf-4bc3-ab42-7aee047dc0e3",
   "metadata": {},
   "outputs": [],
   "source": [
    "sc.pp.neighbors(\n",
    "    adata, \n",
    "    n_pcs=10, \n",
    "    use_rep='X_pca',\n",
    "    knn=True, \n",
    "    n_neighbors=11,\n",
    ")\n",
    "sc.tl.leiden(\n",
    "    adata, \n",
    "    random_state=29, \n",
    "    resolution=0.2,\n",
    "    key_added='cluster',\n",
    ")\n"
   ]
  },
  {
   "cell_type": "markdown",
   "id": "542a6c74-4f10-480e-b530-90d77262b3f0",
   "metadata": {},
   "source": [
    "Next, we plot the cells in the space of the first four PCs. The diagonals are density plots of the number of cells as projected on each PC. The cells are colored by the clusters found using leiden's clustering above. "
   ]
  },
  {
   "cell_type": "code",
   "execution_count": null,
   "id": "fb2f8c56-0bcd-40a9-93b3-7b223f993900",
   "metadata": {},
   "outputs": [],
   "source": [
    "ax = vp.plt.plot_pca(adata, ndim=4, figsize=(7,7), color_by='cluster', cmap='tab10')"
   ]
  },
  {
   "cell_type": "markdown",
   "id": "48873e2e-324b-4bbd-a2d9-5f3f629ec7b4",
   "metadata": {},
   "source": [
    "How many cells are there in each cluster?"
   ]
  },
  {
   "cell_type": "code",
   "execution_count": null,
   "id": "f43756c5-d817-48c1-a440-1659490de2bf",
   "metadata": {},
   "outputs": [],
   "source": [
    "adata.obs.groupby('cluster')['cluster'].count()"
   ]
  },
  {
   "cell_type": "markdown",
   "id": "7d5bc649-32c4-4f75-ad1a-ac8b3d46a2b7",
   "metadata": {},
   "source": [
    "Next, we can use Mann-Whitney-Wilcoxon tests to find marker genes for each cluster. The test compares each cluster to the rest of the cells. Only genes that get higher scores in the cluster, compared to the other cells, are considered. "
   ]
  },
  {
   "cell_type": "code",
   "execution_count": null,
   "id": "6d9b4aeb-52e7-48fb-ab4b-423c8ff7077c",
   "metadata": {},
   "outputs": [],
   "source": [
    "markers = vp.utils.find_markers(adata)"
   ]
  },
  {
   "cell_type": "code",
   "execution_count": null,
   "id": "2feb9428-f666-4a8c-b91b-c1c52952b67b",
   "metadata": {},
   "outputs": [],
   "source": [
    "marker_genes = [\n",
    "    marker.sort_values(by='p.value').iloc[0].name\n",
    "    for _, marker in sorted(markers.items())\n",
    "]\n",
    "\n",
    "marker_genes_symbols = adata.var.loc[marker_genes, \"symbol\"].tolist()\n",
    "adata.var.loc[marker_genes, [\"symbol\"]]"
   ]
  },
  {
   "cell_type": "markdown",
   "id": "b46f7794-3392-4fae-81de-ab07f76a71b6",
   "metadata": {},
   "source": [
    "Note that the marker genes acquired here are not the same as the ones found by SCRAN in the [companion Voyager vignette](https://pachterlab.github.io/voyager/articles/nonspatial.html#basic-non-spatial-analyses). This is mainly due to the difference in the clustering, but also due to different solvers yielding slightly different results."
   ]
  },
  {
   "cell_type": "markdown",
   "id": "e3f93586-9163-4519-9785-13b9081e6944",
   "metadata": {},
   "source": [
    "\n",
    "We can see how specific the marker genes are to each cluster by creating violin plots."
   ]
  },
  {
   "cell_type": "code",
   "execution_count": null,
   "id": "f522c555-a2f7-440f-b0c0-8c5513e8d51b",
   "metadata": {},
   "outputs": [],
   "source": [
    "_ = vp.plt.plot_expression(\n",
    "    adata, \n",
    "    marker_genes, \n",
    "    groupby='cluster',\n",
    "    show_symbol=True, \n",
    "    layer='logcounts',\n",
    "    figsize=(9, 6),\n",
    "    scatter_points=False\n",
    ")"
   ]
  },
  {
   "cell_type": "markdown",
   "id": "de531b3c-06f1-40e6-9613-cd610164d762",
   "metadata": {},
   "source": [
    "We can use the [gget_info](https://pachterlab.github.io/gget/info.html) module from the [gget package](https://pachterlab.github.io/gget/) to get additional information for these marker genes. For example, their [NCBI](https://www.ncbi.nlm.nih.gov/) description:"
   ]
  },
  {
   "cell_type": "code",
   "execution_count": null,
   "id": "5836da6e-9464-45b0-aa1e-5eeeb8cd6978",
   "metadata": {},
   "outputs": [],
   "source": [
    "gget_info = gget.info(marker_genes)\n",
    "gget_info[['ensembl_gene_name', 'ensembl_description']]"
   ]
  },
  {
   "cell_type": "markdown",
   "id": "98b2297e-8aee-4274-8105-315b12402b58",
   "metadata": {},
   "source": [
    "## \"Spatial\" analyses for QC metrics\n",
    "Find $k$ nearest neighbor graph in PCA for Moran's I. \n",
    "\n",
    "We use `sc.pp.neighbors` to compute the *KNN*. To mimick the accompanying R vignette, we normalize the inverse of the distances with the neighbours of each node. The distance matrix resides in `adata.obsp[\"knn_distances\"]`, whereas the connectivites (binary connectivities) and weights are stored in `adata.obsp[\"knn_connectivities\"]` and `adata.obsp[\"knn_weights\"]`, respectively. Note, that the names of these graphs are a result of passing `key_added=\"knn\"` to `sc.pp.neighbors`."
   ]
  },
  {
   "cell_type": "code",
   "execution_count": null,
   "id": "f06c2426-ae8e-4f46-8243-096d8a9d4aaa",
   "metadata": {},
   "outputs": [],
   "source": [
    "sc.pp.neighbors(\n",
    "    adata, \n",
    "    n_neighbors=11,\n",
    "    n_pcs=10,\n",
    "    use_rep='X_pca',\n",
    "    knn=True,\n",
    "    random_state=29,\n",
    "    method='gauss', # one of umap, gauss, rapids\n",
    "    metric='euclidean', # many metrics available,\n",
    "    key_added='knn'\n",
    ")\n",
    "\n",
    "dist = adata.obsp['knn_distances'].copy()\n",
    "dist.data = 1 / dist.data\n",
    "\n",
    "# row normalize the matrix, this makes the matrix dense.\n",
    "dist /= dist.sum(axis=1)\n",
    "\n",
    "# convert dist back to sparse matrix\n",
    "from scipy.sparse import csr_matrix\n",
    "adata.obsp[\"knn_weights\"] = csr_matrix(dist)\n",
    "\n",
    "del dist\n",
    "\n",
    "knn_graph = \"knn_weights\"\n",
    "\n",
    "# adata.obsp[\"knn_connectivities\"] represent the edges, while adata.opsp[\"knn_weights\"] represent the weights\n",
    "adata.obsp[\"knn_connectivities\"] = (adata.obsp[knn_graph] > 0).astype(int)\n",
    "vp.spatial.set_default_graph(adata, knn_graph)\n",
    "vp.spatial.to_spatial_weights(adata, graph_name=knn_graph)"
   ]
  },
  {
   "cell_type": "markdown",
   "id": "bfc23444-c8a9-4429-8030-147ab9cf2b28",
   "metadata": {},
   "source": [
    "### Moran's I"
   ]
  },
  {
   "cell_type": "markdown",
   "id": "70088400-416e-4400-a984-2116bd4529ad",
   "metadata": {},
   "source": [
    "Compute Moran's I over the *KNN* graph."
   ]
  },
  {
   "cell_type": "code",
   "execution_count": null,
   "id": "a883f614-0487-4d3f-81d3-dbdf22c52d59",
   "metadata": {},
   "outputs": [],
   "source": [
    "morans = vp.spatial.moran(adata, qc_features, graph_name=knn_graph)\n",
    "adata.uns['spatial']['moran'][knn_graph].loc[qc_features, [\"I\"]]"
   ]
  },
  {
   "cell_type": "markdown",
   "id": "466ff6e3-c6ab-4885-978b-5cffc291248f",
   "metadata": {},
   "source": [
    "For total UMI counts (`sum`), and genes detected (`detected`), Moran's I is quite strong but weaker for the percentage of mitochondrial counts (`subsets_mito_percent`)."
   ]
  },
  {
   "cell_type": "markdown",
   "id": "362f3faa-eaba-48c0-b00e-b6a0f54412d7",
   "metadata": {},
   "source": [
    "### Moran Plot"
   ]
  },
  {
   "cell_type": "markdown",
   "id": "b99b7cdb-ac38-49ab-af3e-332076e89b68",
   "metadata": {},
   "source": [
    "How are the local variation on the $k$ nearest neighbour graph? The Moran plot displays the feature of interest on the $x$ axis, whereas the $y$ axis displays the same feature but spatially lagged. A line fitted through these points has a slope equal to the Moran's I. The dashed lines are the averages for each axis. The cyan contours mark the densities of the points.\n",
    "\n",
    "These plots sometimes portray clusters different from the neighborhood we computed earlier. We start by computing the spatial lag for the QC metrics, so we don't have to compute them on the fly in the moran plot."
   ]
  },
  {
   "cell_type": "code",
   "execution_count": null,
   "id": "7ed3eaaa-c3ea-4a7b-ba91-e1d9081acdfe",
   "metadata": {},
   "outputs": [],
   "source": [
    "vp.spatial.compute_spatial_lag(\n",
    "    adata, \n",
    "    qc_features,\n",
    "    graph_name=knn_graph,\n",
    "    inplace=True\n",
    ")\n",
    "\n",
    "ax = vp.plt.moran_plot(adata, feature='sum', color_by='cluster', alpha=0.8)"
   ]
  },
  {
   "cell_type": "markdown",
   "id": "1f4831b6-1d59-4825-ab71-e77ed4e3e39c",
   "metadata": {},
   "source": [
    "Most cells in the plot cluster around the average. However, there is a cluster of cells with lower total counts, whose neighbours also have lower total counts. Similarly, there are cells with higher total counts, like their neighbors. These clusters seem to be somewhart related to some gene expression based clusters."
   ]
  },
  {
   "cell_type": "code",
   "execution_count": null,
   "id": "9ed027e4-2395-44cb-9170-f3aaff592335",
   "metadata": {},
   "outputs": [],
   "source": [
    "ax = vp.plt.moran_plot(adata, feature='detected', color_by='cluster', alpha=0.5)"
   ]
  },
  {
   "cell_type": "code",
   "execution_count": null,
   "id": "baf3ae2c-491a-404a-b427-5e01832426b5",
   "metadata": {},
   "outputs": [],
   "source": [
    "ax = vp.plt.moran_plot(\n",
    "    adata, \n",
    "    feature='subsets_mito_percent',\n",
    "    color_by=\"cluster\", \n",
    "    alpha=0.5,\n",
    ")"
   ]
  },
  {
   "cell_type": "markdown",
   "id": "12cb10fc-380c-4872-9cf8-fa27d8368229",
   "metadata": {},
   "source": [
    "In the last two plots, there is only one main cluster, but cells are somewhat separated by gene expression clusters. This is not too surprising, as there clusters were computed on the same graph as the Moran's I.\n",
    "\n",
    "Cells in cluster `5` have higher percentage of mitochondrial counts, as do their neighbors."
   ]
  },
  {
   "cell_type": "markdown",
   "id": "8bda1a79-4bda-4934-bb61-ba7097b79a56",
   "metadata": {},
   "source": [
    "### Local Moran's I\n",
    "\n",
    "We also want to visualize the local Moran's I for the three QC metrics."
   ]
  },
  {
   "cell_type": "markdown",
   "id": "6070bef7-e0dd-403f-b421-0446307091d5",
   "metadata": {},
   "source": [
    "Let's compute the locan Moran's metrics for the features."
   ]
  },
  {
   "cell_type": "code",
   "execution_count": null,
   "id": "c370eb74-2fac-4bc2-8447-fdb3e6f344e1",
   "metadata": {},
   "outputs": [],
   "source": [
    "_ = vp.spatial.local_moran(adata, qc_features, graph_name=knn_graph)"
   ]
  },
  {
   "cell_type": "markdown",
   "id": "2a9fef11-0d9c-45dd-a2aa-02e5cbeee457",
   "metadata": {},
   "source": [
    "Since we don't have a histological space, how do we visualize the local \"spatial\" statistics? PCA can somewhat separate the clusters, as we computed the clusters based on the PCA distances. In this case, we can treat the first two principal components as if they're the histological space."
   ]
  },
  {
   "cell_type": "markdown",
   "id": "1a94d98f-1faa-4987-bf63-9afacde52524",
   "metadata": {},
   "source": [
    "Here, we use the first two principal components as our spatial coordinates. Thus, we convert them to `gpd.GeoSeries[shapely.Point]` and set them as our geometry using the `set_geometry` function."
   ]
  },
  {
   "cell_type": "code",
   "execution_count": null,
   "id": "fe6ecd08-b25b-4d65-b3a0-956b0335e596",
   "metadata": {},
   "outputs": [],
   "source": [
    "# Get the x and y values from PCA\n",
    "pca_0, pca_1 = adata.obsm[\"X_pca\"][:, :2].T\n",
    "\n",
    "# Convert the vectors to a gpd.GeoSeries of shapely.Point objects\n",
    "pca_points = vp.spatial.to_points(pca_0, pca_1)\n",
    "\n",
    "# Set the points as the geometry for the barcodes\n",
    "_ = vp.spatial.set_geometry(adata, 'pca', pca_points)"
   ]
  },
  {
   "cell_type": "markdown",
   "id": "3bd8a67b-8473-4fdc-80d9-0055ce3570f5",
   "metadata": {},
   "source": [
    "Plot the value of the QC features in the first two PCs."
   ]
  },
  {
   "cell_type": "code",
   "execution_count": null,
   "id": "203c7c94-e4b6-4684-b6b0-759d5b094e9a",
   "metadata": {},
   "outputs": [],
   "source": [
    "axs = vp.plt.plot_spatial_feature(adata, qc_features + ['cluster'], s=2)"
   ]
  },
  {
   "cell_type": "markdown",
   "id": "615f46bf-45a2-4ca6-9a3c-3be8c2c65026",
   "metadata": {},
   "source": [
    "Here, we plot the local Moran's I metrics."
   ]
  },
  {
   "cell_type": "code",
   "execution_count": null,
   "id": "605af1e4-e5d5-4822-88e1-bafa43ae4823",
   "metadata": {},
   "outputs": [],
   "source": [
    "_ = vp.plt.plot_local_result(\n",
    "    adata, \n",
    "    obsm=\"local_moran\", \n",
    "    features=qc_features, \n",
    "    figsize=(6,6),\n",
    "    divergent=True, \n",
    "    s=4,\n",
    "    figtitle=\"Local Moran's I\",\n",
    ")"
   ]
  },
  {
   "cell_type": "markdown",
   "id": "32c75793-6328-472f-9996-3b2a34841126",
   "metadata": {},
   "source": [
    "What if there is no good 2D representation for the data? Since the *KNN* graph was computed over the first 10 PCs so the graph is not restricted to a 2D representation. We can still make histograms to show the distribution and scatter plots to compare the same local metric for different variables."
   ]
  },
  {
   "cell_type": "markdown",
   "id": "bfe4615d-d195-4096-b14a-aadbbd4495af",
   "metadata": {},
   "source": [
    "Here, we make a histogram-like plot of local Moran's I for the features. The values are binned as in histograms, but we draw a line through the top of the each bar instead of drawing the bars. This helps us visualize the absolute value without any bars getting hidden.\n",
    "\n",
    "We use log scale on the y-axis. Since some values are zero, we add one to each count before the log-scale is computed."
   ]
  },
  {
   "cell_type": "code",
   "execution_count": null,
   "id": "a05db93f-b805-4557-bc6b-1095b9bf9b31",
   "metadata": {},
   "outputs": [],
   "source": [
    "axs = vp.plt.plot_barcode_histogram(\n",
    "    adata,\n",
    "    qc_features, \n",
    "    obsm=\"local_moran\",\n",
    "    color_by='cluster', \n",
    "    log=True,\n",
    "    histtype='line',\n",
    "    bins=50,\n",
    ")"
   ]
  },
  {
   "cell_type": "markdown",
   "id": "763e0625-a87d-4245-be7a-2a52150891fa",
   "metadata": {},
   "source": [
    "In the figure above, we see that the cells in cluster `6` have very strong local Moran's I in total UMI counts (`sum`) and genes detected. This means they tend to be more homogeneous in these QC metrics."
   ]
  },
  {
   "cell_type": "markdown",
   "id": "5956b128-021d-4834-8bdf-cc92529ba911",
   "metadata": {},
   "source": [
    "How do local Moran's I for these metrics relate to each other?"
   ]
  },
  {
   "cell_type": "code",
   "execution_count": null,
   "id": "af3ee724-4ea5-4b7a-a020-2f7e0beb1863",
   "metadata": {},
   "outputs": [],
   "source": [
    "ax = vp.plt.plot_barcode_data(\n",
    "    adata,\n",
    "    x=\"sum\",\n",
    "    y=\"detected\",\n",
    "    obsm=\"local_moran\",\n",
    "    color_by=\"cluster\",\n",
    "    cmap='tab10',\n",
    ")\n",
    "\n",
    "# set equal aspect to get a nicer figure\n",
    "ax.flat[0].set_aspect('equal')"
   ]
  },
  {
   "cell_type": "markdown",
   "id": "60ca5321-fabf-4220-898b-9a82198f905b",
   "metadata": {},
   "source": [
    "Cells more locally homogeneous in total UMI counts are also more homogeneous in number of genes detected. This is not surprising given the correlation between the"
   ]
  },
  {
   "cell_type": "code",
   "execution_count": null,
   "id": "25b4d541-f1d8-407d-86f4-da63d750e4f5",
   "metadata": {},
   "outputs": [],
   "source": [
    "ax = vp.plt.plot_barcode_data(\n",
    "    adata,\n",
    "    x=\"sum\",\n",
    "    y=\"subsets_mito_percent\",\n",
    "    obsm=\"local_moran\",\n",
    "    color_by=\"cluster\",\n",
    "    cmap='tab10',\n",
    "    alpha=0.4,\n",
    ")\n",
    "ax.flat[0].set_aspect('equal')"
   ]
  },
  {
   "cell_type": "markdown",
   "id": "f60d6380-fb78-48e0-b7ba-b2fa38eb8f79",
   "metadata": {},
   "source": [
    "For local Moran's I, `sum` vs `subsets_mito_percent` shows a more interesting pattern, highlighting clusters `5` and `6`."
   ]
  },
  {
   "cell_type": "markdown",
   "id": "68c3efae-f62f-45c9-8e65-24a5ac62f670",
   "metadata": {},
   "source": [
    "But how does local Moran's I relate to the feature itself?"
   ]
  },
  {
   "cell_type": "markdown",
   "id": "e01522ec-39d7-4fcb-b79a-a3d60ce452d1",
   "metadata": {},
   "source": [
    "To plot this, we must add the `sum` column from `adata.obsm['local_moran']` to `adata.obs`"
   ]
  },
  {
   "cell_type": "code",
   "execution_count": null,
   "id": "9cb1bc77-4ca6-4536-9604-0ee0f0899c0b",
   "metadata": {},
   "outputs": [],
   "source": [
    "adata.obs[\"sum_localmoran\"] = adata.obsm[\"local_moran\"][\"sum\"]\n",
    "ax = vp.plt.plot_barcode_data(\n",
    "    adata,\n",
    "    x=\"sum\",\n",
    "    y=\"sum_localmoran\",\n",
    "    color_by=\"cluster\",\n",
    "    cmap='tab10',\n",
    "    contour_kwargs=dict(linewidths=1, colors=\"blue\", levels=7),\n",
    ")"
   ]
  },
  {
   "cell_type": "markdown",
   "id": "f79c92d5-0dec-42b4-bc61-437005726fae",
   "metadata": {},
   "source": [
    "Looking at the figure above we see that in general, cells with highet total counts tend to have higher local Moran's I, but we also see points with higher local Moran's I that the total counts. The density contours show that most cells are concentrated around $y=9000$."
   ]
  },
  {
   "cell_type": "markdown",
   "id": "fefcc741-4ddc-48e0-a455-c5c5a971a2ef",
   "metadata": {},
   "source": [
    "### Local Spatial heteroscedasticity (LOSH)\n",
    "LOSH indicates heterogeneity around each cell in the KNN graph."
   ]
  },
  {
   "cell_type": "code",
   "execution_count": null,
   "id": "bcee0c1d-a2b6-48bb-af89-f08823346676",
   "metadata": {},
   "outputs": [],
   "source": [
    "_ = vp.spatial.losh(adata, qc_features, graph_name=knn_graph)"
   ]
  },
  {
   "cell_type": "code",
   "execution_count": null,
   "id": "cae76b34-7c69-481a-bc5b-c1732ac7f2ac",
   "metadata": {},
   "outputs": [],
   "source": [
    "_ = vp.plt.plot_local_result(\n",
    "    adata, \n",
    "    \"losh\", \n",
    "    qc_features, \n",
    "    ncol=2,\n",
    "    figtitle=\"Local Spatial Heteroscedasticity (Hi)\",\n",
    "    subplot_kwargs=dict(figsize=(6,6)),\n",
    "    s=2,\n",
    ")"
   ]
  },
  {
   "cell_type": "markdown",
   "id": "0ccdcdbd-6863-42e6-8bce-08736068b860",
   "metadata": {},
   "source": [
    "Here, we make the same pseudo-spatial plots for LOSH as for local Moran's I."
   ]
  },
  {
   "cell_type": "code",
   "execution_count": null,
   "id": "0eb08b8f-3919-4542-b937-0c50065fedf6",
   "metadata": {},
   "outputs": [],
   "source": [
    "_ = vp.plt.plot_barcode_histogram(\n",
    "    adata, \n",
    "    qc_features, \n",
    "    obsm=\"losh\",\n",
    "    color_by='cluster', \n",
    "    log=True, \n",
    "    histtype='line',\n",
    "    bins=50,\n",
    "    figsize=(7, 6)\n",
    ")"
   ]
  },
  {
   "cell_type": "markdown",
   "id": "9d8c6c8f-7c1d-44d9-8d45-c8c18b638efa",
   "metadata": {},
   "source": [
    "Here, clusters `1` and `2` tend to be more locally heterogeneous in the number of genes detected, and clusters `2` and `5` in mitochondrial counts. How do total counts and genes detected relate in LOSH?"
   ]
  },
  {
   "cell_type": "code",
   "execution_count": null,
   "id": "48d9386b-5cca-409b-b5be-3e161536a16a",
   "metadata": {},
   "outputs": [],
   "source": [
    "ax = vp.plt.plot_barcode_data(\n",
    "    adata,\n",
    "    x=\"sum\",\n",
    "    y=\"detected\",\n",
    "    obsm='losh',\n",
    "    color_by=\"cluster\",\n",
    "    cmap='tab10'\n",
    ")\n",
    "\n",
    "ax.flat[0].set_aspect(2/1)"
   ]
  },
  {
   "cell_type": "markdown",
   "id": "00093537-454c-44c5-83e1-b89869db1c6e",
   "metadata": {},
   "source": [
    "While, in general, cells higher in LOSH in total counts are also higher in LOSH in genes detected, there are some outliers very high in both metrics, with more hererogeneous neighborhoods. Absolutes distance to the neighbors is not taken into account when the adjacency matrix is row-normalized. It would be interesting to see if those outliers tend to be further away fom their 10 nearest neighbors, or in a region in the PCA space where the cells are further apart."
   ]
  },
  {
   "cell_type": "markdown",
   "id": "235beca8-7f57-4e38-ba6e-ddaec8efaad8",
   "metadata": {},
   "source": [
    "How does total counts itself relate to its LOSH?"
   ]
  },
  {
   "cell_type": "code",
   "execution_count": null,
   "id": "b0059299-7056-46e0-bd33-522205c649ea",
   "metadata": {},
   "outputs": [],
   "source": [
    "# Again, we must put the values from adata.obsm[\"losh\"] into the adata.obs dataframe\n",
    "adata.obs[\"sum_losh\"] = adata.obsm[\"losh\"][\"sum\"]\n",
    "_ = vp.plt.plot_barcode_data(\n",
    "    adata,\n",
    "    x=\"sum\",\n",
    "    y=\"sum_losh\",\n",
    "    color_by=\"cluster\",\n",
    "    cmap='tab10'\n",
    ")"
   ]
  },
  {
   "cell_type": "markdown",
   "id": "f4cc5942-7f08-4135-9229-e5d82c9dcb7f",
   "metadata": {},
   "source": [
    "There does not seem to be a clear relationship in this case."
   ]
  },
  {
   "cell_type": "markdown",
   "id": "21da897a-d7e7-4110-a18c-707380b9b291",
   "metadata": {
    "tags": []
   },
   "source": [
    "## \"Spatial\" analyses for gene expression"
   ]
  },
  {
   "cell_type": "markdown",
   "id": "2e2f128a-663f-42ea-9d09-eeb7ceeeab14",
   "metadata": {},
   "source": [
    "Here, we join all the marker data frames and only keep the rows where FDR < 0.05."
   ]
  },
  {
   "cell_type": "code",
   "execution_count": null,
   "id": "f381f70a-cf19-4f8e-9cce-4169be527918",
   "metadata": {},
   "outputs": [],
   "source": [
    "top_markers_df = pd.concat([\n",
    "    pd.DataFrame({'cluster': str(i_cluster),  **dict(m[m['FDR'] < 0.05])})\n",
    "    for i_cluster, (key, m) in enumerate(sorted(markers.items()))\n",
    "])\n",
    "\n",
    "top_markers_df['symbol'] = adata.var.loc[top_markers_df.index, \"symbol\"]"
   ]
  },
  {
   "cell_type": "markdown",
   "id": "f6c81bf3-3cb1-49df-b9c9-dc6fb7c1cecf",
   "metadata": {
    "tags": [
     "Spatial"
    ]
   },
   "source": [
    "### Moran's I"
   ]
  },
  {
   "cell_type": "markdown",
   "id": "34dbcfc6-5e06-453f-8eca-2198250a6506",
   "metadata": {},
   "source": [
    "Here, we compute Moran's I for the top highly variavle genes. Since Moran's I is a global metric, it is stored in `adata.uns[\"spatial\"][\"moran\"][graph_name]`. We copy these values to `adata.var` and associate it with the HVGs in order to plot them."
   ]
  },
  {
   "cell_type": "code",
   "execution_count": null,
   "id": "d1f3ef3b-356d-4336-8fa8-ea950f2ec0c9",
   "metadata": {},
   "outputs": [],
   "source": [
    "# Compute Moran's I for the expression\n",
    "vp.spatial.moran(adata, feature=hvgs, dim='var', graph_name=knn_graph)\n",
    "hvgs_moransI = adata.uns['spatial']['moran'][knn_graph].loc[hvgs, 'I']\n",
    "# Store the results in adata.var\n",
    "adata.var.loc[hvgs, \"moran\"] = hvgs_moransI"
   ]
  },
  {
   "cell_type": "code",
   "execution_count": null,
   "id": "aca14dc9-a98a-4ff1-ad82-b3a8c5b24916",
   "metadata": {},
   "outputs": [],
   "source": [
    "adata.var.loc[hvgs, [\"symbol\", \"moran\"]].sort_values(by='moran')"
   ]
  },
  {
   "cell_type": "markdown",
   "id": "9a6e530a-040f-45b9-a4d8-dabeb9846fb5",
   "metadata": {},
   "source": [
    "How are the Moran's I for highly variable genes distributed? Also, where are the top cluster marker genes in this distribution?\n",
    "\n",
    "The top marker genes are marked by the vertical lines through this barplot."
   ]
  },
  {
   "cell_type": "code",
   "execution_count": null,
   "id": "be9ae684-db96-4fb9-804d-cb8a6bb64a9d",
   "metadata": {},
   "outputs": [],
   "source": [
    "_ = vp.plt.plot_features_histogram(\n",
    "    adata,\n",
    "    \"moran\",\n",
    "    bins=50,\n",
    "    log=False,\n",
    "    histtype=\"bar\",\n",
    "    markers=marker_genes,\n",
    "    show_symbol=True\n",
    ")"
   ]
  },
  {
   "cell_type": "markdown",
   "id": "9403b049-08bb-417b-91fd-e77360054bcd",
   "metadata": {},
   "source": [
    "The top marker genes have quite high Moran's I in the *KNN*. Since the *KNN* graph was computed in PCA space of gene expression, Moran's I is mostly positive, but not always strong. A small number of genes have slightly negative Moran's I. What do the genes with the strongest Moran's i look like in PCA?"
   ]
  },
  {
   "cell_type": "code",
   "execution_count": null,
   "id": "8f3d681a-9a62-41a9-bb07-956962637120",
   "metadata": {},
   "outputs": [],
   "source": [
    "top_moran = adata.var['moran'].sort_values(ascending=False)[:4].index.tolist()\n",
    "\n",
    "ax = vp.plt.plot_spatial_feature(\n",
    "    adata, \n",
    "    top_moran, \n",
    "    layer='logcounts', \n",
    "    aspect='equal'\n",
    ")"
   ]
  },
  {
   "cell_type": "code",
   "execution_count": null,
   "id": "25766d4f-af1c-4ad5-bd1b-c72f6bb9d6e2",
   "metadata": {},
   "outputs": [],
   "source": [
    "_ = vp.plt.plot_expression(\n",
    "    adata, \n",
    "    top_moran, \n",
    "    show_symbol=True,\n",
    "    cmap='tab10', \n",
    "    layer='logcounts',\n",
    ")"
   ]
  },
  {
   "cell_type": "code",
   "execution_count": null,
   "id": "7e6322fd-bed1-40b5-a6d1-268ab561f5c7",
   "metadata": {},
   "outputs": [],
   "source": [
    "top_markers_df.loc[top_moran]"
   ]
  },
  {
   "cell_type": "markdown",
   "id": "600be494-34f7-42f4-afe8-2ba465d5aad4",
   "metadata": {},
   "source": [
    "These are all marker genes from cluster `7`, except LYZ, which is a marker gene for cluster `2`. Maybe they have high Moran's I because they are specific to a cell type. Then how does the Moran's I relate to cluster AUC and the p-value from the differential expression?"
   ]
  },
  {
   "cell_type": "code",
   "execution_count": null,
   "id": "c2105457-6dd7-4538-ac33-4b7ed5dd250c",
   "metadata": {},
   "outputs": [],
   "source": [
    "# Check if markers any markers are shared across clusters\n",
    "any(top_markers_df.index.duplicated())"
   ]
  },
  {
   "cell_type": "code",
   "execution_count": null,
   "id": "f7366bc4-ec5f-48e5-92a8-e32e8eb7c01a",
   "metadata": {},
   "outputs": [],
   "source": [
    "adata.var['moran'] = adata.var['moran'].astype('double')\n",
    "\n",
    "top_markers_df['log_p_adj'] = -np.log10(top_markers_df['FDR'])\n",
    "top_markers_df['cluster'] = top_markers_df['cluster'].astype(\"category\")\n",
    "top_markers_df['moran'] = adata.var['moran']\n"
   ]
  },
  {
   "cell_type": "markdown",
   "id": "bdfc9438-4195-4129-95e8-90fd1f4db53e",
   "metadata": {},
   "source": [
    "How does the differential expressino p-value relate to Moran's I?\n",
    "\n",
    "Here, we use VoyagerPy's scatter function, a handy wrapper around matplotlib's scatter function."
   ]
  },
  {
   "cell_type": "code",
   "execution_count": null,
   "id": "123e2dd4-ca05-40a6-b59e-144bb136def9",
   "metadata": {},
   "outputs": [],
   "source": [
    "ax = vp.plt.scatter(\n",
    "    x='log_p_adj', \n",
    "    y='moran', \n",
    "    color_by='cluster', \n",
    "    data=top_markers_df, \n",
    "    fitline_kwargs=dict(color='blue'),\n",
    ")"
   ]
  },
  {
   "cell_type": "markdown",
   "id": "a2b7edae-c0e5-4a72-9b42-885eba988cad",
   "metadata": {},
   "source": [
    "Generally more significant marker genes tend to have higher Moran's I. This is not surprising since the cluster's and Moran's I were computed from the same *KNN* graph."
   ]
  },
  {
   "cell_type": "code",
   "execution_count": null,
   "id": "dbe5a8d6-886d-4981-b94e-d9d8bff70a12",
   "metadata": {},
   "outputs": [],
   "source": [
    "ax = vp.plt.scatter(\n",
    "    'summary.AUC', \n",
    "    'moran', \n",
    "    color_by='cluster', \n",
    "    data=top_markers_df, \n",
    "    fitline_kwargs=dict(color='b'))"
   ]
  },
  {
   "cell_type": "markdown",
   "id": "761d1b5d-b218-40de-95e1-70b17521a1bc",
   "metadata": {},
   "source": [
    "Similarly, genes with higher AUC tend to have higher Moran's I. For other clusters, generally, genes more specific to a cluster tend to have higher Moran's I."
   ]
  },
  {
   "cell_type": "markdown",
   "id": "2480479a-5f2f-4eb0-8474-b6e3fa768d0e",
   "metadata": {},
   "source": [
    "We compute Moran's I again, but with permutation testing to see if the values are statistically significant."
   ]
  },
  {
   "cell_type": "code",
   "execution_count": null,
   "id": "440264ce-324e-42f5-a769-93446fec8c2a",
   "metadata": {},
   "outputs": [],
   "source": [
    "vp.spatial.moran(adata, marker_genes, graph_name=knn_graph, dim='var', permutations=200)\n",
    "_ = vp.plt.plot_moran_mc(adata, marker_genes, graph_name=knn_graph)"
   ]
  },
  {
   "cell_type": "markdown",
   "id": "f8aaa6fe-f122-4aaa-9c73-179500036972",
   "metadata": {},
   "source": [
    "The vertical line show the computed Moran's I, whereas the other lines show the density of the I's from the permutations."
   ]
  },
  {
   "cell_type": "markdown",
   "id": "e6709111-786e-4886-9e80-926ad176a8b0",
   "metadata": {},
   "source": [
    "The correlogram finds Moran's I for higher order neighbors and can be a proxy for distance."
   ]
  },
  {
   "cell_type": "code",
   "execution_count": null,
   "id": "932d05fa-9c9d-4725-8d68-260406bf1904",
   "metadata": {},
   "outputs": [],
   "source": [
    "vp.spatial.compute_higher_order_neighbors(adata, order=6)\n",
    "vp.spatial.compute_correlogram(adata, marker_genes, order=6)"
   ]
  },
  {
   "cell_type": "code",
   "execution_count": null,
   "id": "ca94a88e-ad12-47df-8e08-2ae71209c0df",
   "metadata": {},
   "outputs": [],
   "source": [
    "_ = vp.plt.plot_correlogram(adata, features=marker_genes)"
   ]
  },
  {
   "cell_type": "markdown",
   "id": "6ff82425-f015-4ccf-9bbf-ceba1abcec5f",
   "metadata": {},
   "source": [
    "Here, we see different patterns of decay in spatial autocorrelation and different length scales of spatial autocorrelation. CLU is the marker gene for a very small cluster, so higher order neighbors are likely to be from other clusters. Nonetheless, marker genes for other large clusters display different patterns in the correlogram."
   ]
  },
  {
   "cell_type": "markdown",
   "id": "5df85de5-8f61-4239-8a72-a5e4c03a19ab",
   "metadata": {
    "tags": []
   },
   "source": [
    "### Local Moran's I"
   ]
  },
  {
   "cell_type": "code",
   "execution_count": null,
   "id": "3810735e-7e17-4c78-9c23-1d4bfe5e14a8",
   "metadata": {},
   "outputs": [],
   "source": [
    "_ = vp.spatial.local_moran(adata, marker_genes, layer='logcounts')"
   ]
  },
  {
   "cell_type": "code",
   "execution_count": null,
   "id": "ab302b38-75c2-493f-bad6-5b2d683a7190",
   "metadata": {},
   "outputs": [],
   "source": [
    "_ = vp.plt.plot_spatial_feature(\n",
    "    adata,\n",
    "    marker_genes,\n",
    "    obsm='local_moran',\n",
    "    divergent=True,\n",
    "    ncol=3,\n",
    "    figsize=(9,9)\n",
    ")"
   ]
  },
  {
   "cell_type": "markdown",
   "id": "cecd21be-8b13-45f6-b74e-2fd4508fb93e",
   "metadata": {},
   "source": [
    "We also plot the histograms"
   ]
  },
  {
   "cell_type": "code",
   "execution_count": null,
   "id": "8d61469a-acbd-4a59-85f8-fe994b7c28d1",
   "metadata": {},
   "outputs": [],
   "source": [
    "_ = vp.plt.plot_barcode_histogram(\n",
    "    adata,\n",
    "    marker_genes,\n",
    "    color_by='cluster',\n",
    "    obsm='local_moran',\n",
    "    histtype='line',\n",
    "    figsize=(7,6),\n",
    "    subplot_kwargs=dict(layout='constrained'),\n",
    "    label=marker_genes_symbols,\n",
    "    ncol=2\n",
    ")"
   ]
  },
  {
   "cell_type": "markdown",
   "id": "bc92f24f-1ba4-436a-97b0-c2347d0663e6",
   "metadata": {},
   "source": [
    "The scatter plots as shown in the *\"spatial\" analyses for QC metrics* section can be made to see how local Moran's I relates to the expression of the gene itself."
   ]
  },
  {
   "cell_type": "code",
   "execution_count": null,
   "id": "581beecf-fad9-4bbf-a0b6-453655ccf888",
   "metadata": {},
   "outputs": [],
   "source": [
    "axs = vp.plt.plot_expression(\n",
    "    adata,\n",
    "    gene=marker_genes[1],\n",
    "    y=marker_genes[1], # This is the y-axis, and should be a column in adata.obsm['local_moran']\n",
    "    layer='logcounts',\n",
    "    obsm='local_moran',\n",
    "    color_by='cluster',\n",
    "    alpha=0.5,\n",
    "    contour_kwargs={'colors': 'blue'}\n",
    ")"
   ]
  },
  {
   "cell_type": "markdown",
   "id": "55b44986-a7f6-4f41-9862-15b6e59d6b6f",
   "metadata": {},
   "source": [
    "For this gene, there are two wings and a central value where the local Moran's I is around 0, just like it did for total UMI counts. Generally, cells with higher expressino of this gene have higher local Moran's I. The contours tell us that many cells do not express this gene, and we can see that their neighbors have low and slightly homogeneous expression of this gene. This pattern may be different for other genes,"
   ]
  },
  {
   "cell_type": "markdown",
   "id": "4343f8c5-7e43-4636-8b46-df45f08f577c",
   "metadata": {},
   "source": [
    "### LOSH"
   ]
  },
  {
   "cell_type": "code",
   "execution_count": null,
   "id": "4da371f2-a3a2-4851-b599-622c2ecde5e1",
   "metadata": {},
   "outputs": [],
   "source": [
    "_ = vp.spatial.losh(\n",
    "    adata,\n",
    "    marker_genes,\n",
    "    graph_name = knn_graph,\n",
    "    layer='logcounts'\n",
    ")"
   ]
  },
  {
   "cell_type": "code",
   "execution_count": null,
   "id": "05a2310b-d643-4238-ba9e-c04a3f543146",
   "metadata": {},
   "outputs": [],
   "source": [
    "_ = vp.plt.plot_local_result(\n",
    "    adata, \n",
    "    obsm='losh',\n",
    "    features=marker_genes, \n",
    "    ncol=3, \n",
    "    show_symbol=True,\n",
    "    figsize=(8,7)\n",
    ")"
   ]
  },
  {
   "cell_type": "code",
   "execution_count": null,
   "id": "b6c37502-cd5c-44b3-a029-02ca62f1af76",
   "metadata": {},
   "outputs": [],
   "source": [
    "axs = vp.plt.plot_barcode_histogram(\n",
    "    adata,\n",
    "    marker_genes,\n",
    "    color_by='cluster',\n",
    "    histtype='line',\n",
    "    obsm='losh',\n",
    "    ncol=2,\n",
    "    figsize=(9,6),\n",
    "    label=[f'Cluster {c} - {gene}' for c, gene in enumerate(marker_genes_symbols)],\n",
    "    subplot_kwargs=dict(dpi=150)\n",
    ")"
   ]
  },
  {
   "cell_type": "markdown",
   "id": "925a4757-beed-4b8a-939e-8a064d57ee5c",
   "metadata": {},
   "source": [
    "Relationship between expression and LOSH is more complicated. For some genes, such as the marker gene for cluster `1` (TRAC), cells within the cluster, i.e. with higher expression, also have higher LOSH. This is much like how in Poisson and binomial distributions, higher means also means higher variance. However, for some genes, such as CTSS, have lower LOSH among cells that have higher expression, which means expressino of this gene is more homogeneous within the cluster, consistent with local Moran."
   ]
  },
  {
   "cell_type": "code",
   "execution_count": null,
   "id": "78f34b3b-e6b4-48b9-90c8-2e6963f95007",
   "metadata": {},
   "outputs": [],
   "source": [
    "_ = vp.plt.plot_expression(\n",
    "    adata,\n",
    "    gene=marker_genes[1],\n",
    "    y=marker_genes[1],\n",
    "    obsm='losh',\n",
    "    color_by='cluster',\n",
    "    contour_kwargs=dict(colors='blue'),\n",
    ")"
   ]
  },
  {
   "cell_type": "markdown",
   "id": "989bef7e-ee70-4660-86d7-6181d0278170",
   "metadata": {},
   "source": [
    "For this gene, the density tells us that many cells don't express it and have homogeneous neighborhoods with low expression. The column of cells with 0 expression means that their neighboring cells have different level of heterogeneity in this gene."
   ]
  },
  {
   "cell_type": "markdown",
   "id": "8c22e78d-00d4-4f9f-9695-7125e385c1d8",
   "metadata": {},
   "source": [
    "### Moran Plot"
   ]
  },
  {
   "cell_type": "markdown",
   "id": "a70135e6-6ed7-4cf0-b4be-e373a1e0a71b",
   "metadata": {},
   "source": [
    "Here we make Moran plots for the top marker genes. We begin by computing the spatial lag explicitly."
   ]
  },
  {
   "cell_type": "code",
   "execution_count": null,
   "id": "e38f3529-37e9-4f25-9978-0a1cb6e3f262",
   "metadata": {},
   "outputs": [],
   "source": [
    "_ = vp.spatial.compute_spatial_lag(\n",
    "    adata, \n",
    "    marker_genes,\n",
    "    graph_name=knn_graph,\n",
    "    inplace=True,\n",
    "    layer='logcounts',\n",
    ")"
   ]
  },
  {
   "cell_type": "markdown",
   "id": "d31e34b9-148f-45e0-8105-6e67e9e9bb62",
   "metadata": {},
   "source": [
    "As a reference, we show the Moran's I for the top markers. Remember that these are the slopes of the fitted lines through the points."
   ]
  },
  {
   "cell_type": "code",
   "execution_count": null,
   "id": "2dc6691f-58bd-4180-bf91-5ee391f65a33",
   "metadata": {},
   "outputs": [],
   "source": [
    "top_markers_df.loc[marker_genes, :]"
   ]
  },
  {
   "cell_type": "code",
   "execution_count": null,
   "id": "24f6c603-1502-47a5-852b-14dc97c30652",
   "metadata": {},
   "outputs": [],
   "source": [
    "axs = vp.plt.moran_plot(\n",
    "    adata, \n",
    "    feature=marker_genes, \n",
    "    color_by='cluster', \n",
    "    alpha=0.8, \n",
    "    ncol=3, \n",
    "    figsize=(9,9), \n",
    "    subplot_kwargs=dict(\n",
    "        wspace=0.2,\n",
    "        hspace=0,\n",
    "        dpi=100\n",
    "    ),\n",
    "    layer='logcounts'\n",
    ")"
   ]
  },
  {
   "cell_type": "markdown",
   "id": "5232b36e-b340-4758-aee3-0f2ff0f37e7c",
   "metadata": {},
   "source": [
    "In the figure above, we can see some clusters. In some of these plots, we can also see columns around the 0-expression, meaning that these cells don't express the corresponding gene despite their neighbors do."
   ]
  },
  {
   "cell_type": "markdown",
   "id": "b9dc5448-3fb0-4959-9f46-ac3f07b6dcc8",
   "metadata": {},
   "source": [
    "In this notebook, we have applied univariate spatial statistics to the *k* nearest neighbor graph in PCA space of the gene expression, rather than the histological space. Just like in histological space, it would be impractical to examine all these statistics gene by gene. Thus, multivariate analyses incorporating the *KNN* graph may be interesting."
   ]
  }
 ],
 "metadata": {
  "language_info": {
   "name": "python"
  }
 },
 "nbformat": 4,
 "nbformat_minor": 5
}
