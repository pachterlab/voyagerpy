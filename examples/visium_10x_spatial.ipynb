{
  "cells": [
    {
      "cell_type": "markdown",
      "id": "eaeea1b3",
      "metadata": {},
      "source": [
        "# Spatial analysis of 10X example Visium dataset"
      ]
    },
    {
      "cell_type": "raw",
      "id": "65c5f0e3-9bdb-4993-94da-482c0d5f8119",
      "metadata": {
        "id": "65c5f0e3-9bdb-4993-94da-482c0d5f8119",
        "vscode": {
          "languageId": "raw"
        }
      },
      "source": [
        "<a href=\"https://colab.research.google.com/github/pmelsted/voyagerpy/blob/main/examples/visium_10x_spatial.ipynb\" target=\"_parent\"><img src=\"https://colab.research.google.com/assets/colab-badge.svg\" alt=\"Open In Colab\"/></a>"
      ]
    },
    {
      "cell_type": "markdown",
      "id": "9ef2bd13",
      "metadata": {},
      "source": [
        "# Introducion\n",
        "\n",
        "In a [more introductory vignette](https://pmelsted.github.io/voyagerpy/examples/visium_10x.html), we performed basic non-spatial analyses on a mouse olfactory bulb Visium dataset from the 10X website. In this vignette, we perform spatial analyses in histological space as well as in gene expression space.\n",
        "\n",
        "Here we load the packages used in this vignette:"
      ]
    },
    {
      "cell_type": "code",
      "execution_count": null,
      "id": "7626db88",
      "metadata": {},
      "outputs": [],
      "source": [
        "import sys\n",
        "import subprocess\n",
        "\n",
        "def install_packages_colab():\n",
        "    \"\"\"Install Python packages using pip.\"\"\"\n",
        "    packages = [\n",
        "        'voyagerpy==0.1.1',\n",
        "        'gget==0.28.4',\n",
        "        'watermark==2.4.3',\n",
        "        'scanpy==1.10.1'\n",
        "    ]\n",
        "    # Command construction for pip install\n",
        "    command = [sys.executable, '-m', 'pip', 'install'] + packages\n",
        "    try:\n",
        "        # Execute the command\n",
        "        subprocess.check_call(command)\n",
        "        print(\"Packages installed successfully.\")\n",
        "    except subprocess.CalledProcessError:\n",
        "        print(\"Failed to install packages.\")\n",
        "        raise\n",
        "\n",
        "if 'google.colab' in sys.modules:  # if in google colab\n",
        "    install_packages_colab()"
      ]
    },
    {
      "cell_type": "code",
      "execution_count": null,
      "id": "11b06b0b-2f7e-4555-99de-e50538f5c9a0",
      "metadata": {
        "id": "11b06b0b-2f7e-4555-99de-e50538f5c9a0"
      },
      "outputs": [],
      "source": [
        "import voyagerpy as vp\n",
        "\n",
        "# Data handling and plotting\n",
        "import numpy as np\n",
        "import pandas as pd\n",
        "from matplotlib import pyplot as plt\n",
        "\n",
        "# File management and downloading\n",
        "import os\n",
        "import tarfile\n",
        "import requests\n",
        "import pathlib\n",
        "import json\n",
        "import gget  # mapping ensembl gene IDs to gene symbols\n",
        "\n",
        "# Graph/matrix handling\n",
        "import networkx as nx  # graph generation\n",
        "from scipy.sparse import csr_matrix, issparse  # matrix handling\n",
        "import scanpy as sc  # PCA and KNN\n",
        "\n",
        "# Image handling\n",
        "from scipy.ndimage import binary_opening, binary_closing, binary_fill_holes\n",
        "from skimage.measure import label, regionprops\n",
        "from skimage import color, morphology\n",
        "from matplotlib.colors import ListedColormap, LinearSegmentedColormap\n",
        "from shapely.affinity import scale\n",
        "from matplotlib.lines import Line2D\n",
        "from shapely.geometry import Point\n",
        "from shapely.predicates import contains\n",
        "from scipy.stats import gaussian_kde\n",
        "\n",
        "plt.rcParams['axes.grid'] = False\n",
        "plt.rcParams['axes.edgecolor'] = 'none'  # Hides the axes border\n",
        "# plt.rcParams['xtick.color'] = 'none'  # Hides x-axis ticks\n",
        "# plt.rcParams['ytick.color'] = 'none'  # Hides y-axis ticks\n",
        "\n",
        "plt.rcParams['figure.dpi'] = 120\n",
        "\n",
        "# Turn on matplotlib interactive mode so we don't need to explicitly call plt.show()\n",
        "_ = plt.ion()"
      ]
    },
    {
      "cell_type": "code",
      "execution_count": null,
      "id": "6dbba7de-a768-4797-b258-810d0d0384f0",
      "metadata": {
        "id": "6dbba7de-a768-4797-b258-810d0d0384f0"
      },
      "outputs": [],
      "source": [
        "root_dir = pathlib.Path(os.getcwd())\n",
        "data_dir = pathlib.Path(f'{root_dir}/data')\n",
        "outs_dir = pathlib.Path(f'{root_dir}/outs')\n",
        "\n",
        "data_dir.mkdir(parents=True, exist_ok=True)\n",
        "outs_dir.mkdir(parents=True, exist_ok=True)\n",
        "\n",
        "def download_data(tar_path, url_reads, outs_dir = outs_dir):\n",
        "    if not tar_path.exists():\n",
        "        res = requests.get(url_reads)\n",
        "        with tar_path.open('wb') as f:\n",
        "            f.write(res.content)\n",
        "\n",
        "        try:\n",
        "            with tarfile.open(tar_path, 'r') as tar:\n",
        "                tar.extractall(path=outs_dir)\n",
        "                print(\"Extraction completed successfully!\")\n",
        "        except Exception as e:\n",
        "            print(f\"An error occurred: {e}\")"
      ]
    },
    {
      "cell_type": "markdown",
      "id": "e65cd0c5",
      "metadata": {},
      "source": [
        "Here we download the data from the 10X website. Contents of the outs directory as from Space Ranger is explained in the [introductory vignette](https://pmelsted.github.io/voyagerpy/examples/visium_10x.html)."
      ]
    },
    {
      "cell_type": "code",
      "execution_count": null,
      "id": "06fa44c4-77c2-43ce-b0cc-78ee926d088d",
      "metadata": {
        "colab": {
          "base_uri": "https://localhost:8080/"
        },
        "id": "06fa44c4-77c2-43ce-b0cc-78ee926d088d",
        "outputId": "f8b49f4f-b89d-41c9-c9e7-fb3ea8d34693"
      },
      "outputs": [],
      "source": [
        "# Download the unfiltered gene count matrix\n",
        "tar_path = data_dir / 'visium_ob.tar.gz'\n",
        "url_reads = \"https://cf.10xgenomics.com/samples/spatial-exp/2.0.0/Visium_Mouse_Olfactory_Bulb/Visium_Mouse_Olfactory_Bulb_raw_feature_bc_matrix.tar.gz\"\n",
        "download_data(tar_path, url_reads)\n",
        "\n",
        "# This is the spatial information\n",
        "tar_path_spatial = data_dir / 'visium_ob_spatial.tar.gz'\n",
        "url_reads_spatial = \"https://cf.10xgenomics.com/samples/spatial-exp/2.0.0/Visium_Mouse_Olfactory_Bulb/Visium_Mouse_Olfactory_Bulb_spatial.tar.gz\"\n",
        "download_data(tar_path_spatial, url_reads_spatial)"
      ]
    },
    {
      "cell_type": "markdown",
      "id": "5cebf055-8fde-4319-a26b-3ce4205145a0",
      "metadata": {
        "id": "5cebf055-8fde-4319-a26b-3ce4205145a0"
      },
      "source": [
        "Here we read the data into Python as an Anndata object"
      ]
    },
    {
      "cell_type": "code",
      "execution_count": null,
      "id": "1b165d3d-be13-487d-a90d-78bf9fd80400",
      "metadata": {
        "colab": {
          "base_uri": "https://localhost:8080/"
        },
        "id": "1b165d3d-be13-487d-a90d-78bf9fd80400",
        "outputId": "cdf96486-75d2-4e76-db12-bf8c8d6f944c"
      },
      "outputs": [],
      "source": [
        "adata_image_res = 'hires'\n",
        "\n",
        "adata = vp.read_10x_visium(\n",
        "    outs_dir,\n",
        "    datatype = 'mtx',\n",
        "    raw = True,\n",
        "    prefix = None,\n",
        "    symbol_as_index=False,\n",
        "    dtype=np.float64,\n",
        "    res=adata_image_res\n",
        ")"
      ]
    },
    {
      "cell_type": "markdown",
      "id": "80cb8b63-f8da-4dd9-b9b0-1698aa4415b9",
      "metadata": {
        "id": "80cb8b63-f8da-4dd9-b9b0-1698aa4415b9"
      },
      "source": [
        "Here we add QC metrics and plot them."
      ]
    },
    {
      "cell_type": "code",
      "execution_count": null,
      "id": "30524b4c-855d-439c-aa51-dd4f69e8ba57",
      "metadata": {
        "id": "30524b4c-855d-439c-aa51-dd4f69e8ba57"
      },
      "outputs": [],
      "source": [
        "is_mt = adata.var['symbol'].str.contains('^mt-').values\n",
        "vp.utils.add_per_cell_qcmetrics(adata, subsets={'mito': is_mt})"
      ]
    },
    {
      "cell_type": "markdown",
      "id": "d9273c22",
      "metadata": {},
      "source": [
        "Retrieve the locations of visium spots"
      ]
    },
    {
      "cell_type": "code",
      "execution_count": null,
      "id": "px7kQkO6fUuS",
      "metadata": {
        "id": "px7kQkO6fUuS"
      },
      "outputs": [],
      "source": [
        "visium_spots = vp.spatial.get_visium_spots(adata, with_radius=True)\n",
        "\n",
        "_ = vp.spatial.set_geometry(adata, geom=\"spot_poly\", values=visium_spots)"
      ]
    },
    {
      "cell_type": "code",
      "execution_count": null,
      "id": "d3P0nHtHivd6",
      "metadata": {
        "id": "d3P0nHtHivd6"
      },
      "outputs": [],
      "source": [
        "qc_features = [\"detected\", \"subsets_mito_percent\", \"sum\"]\n",
        "axs = vp.plt.plot_spatial_feature(\n",
        "    adata,\n",
        "    qc_features,\n",
        "    image_kwargs=dict(crop=True),\n",
        "    ncol = 3,\n",
        "    subplot_kwargs=dict(figsize=(8,8), dpi=100, layout='tight')\n",
        ")"
      ]
    },
    {
      "cell_type": "markdown",
      "id": "fc6b5eea-b574-448c-aa08-d69c1ca7a96e",
      "metadata": {
        "id": "fc6b5eea-b574-448c-aa08-d69c1ca7a96e"
      },
      "source": [
        "## Tissue segmentation\n",
        "\n",
        "While Space Ranger can automatically detect which spots are in tissue and the Loupe browser can be used to manually annotate which spots are in tissue, it may be interesting to get the tissue outline polygon, so we would know how much each spot overlaps with the tissue and plot the outline. We can perform this boundary detection computationally with scipy.ndimage.\n",
        "\n",
        "Here we don’t have the full resolution image. We will perform tissue segmentation on the high resolution downsampled image and then scale it to make the coordinates of the tissue boundary match those of the spots."
      ]
    },
    {
      "cell_type": "code",
      "execution_count": null,
      "id": "3eb626cb-ca4b-4206-b814-1e1f698f4371",
      "metadata": {
        "colab": {
          "base_uri": "https://localhost:8080/",
          "height": 517
        },
        "id": "3eb626cb-ca4b-4206-b814-1e1f698f4371",
        "outputId": "eefb8520-9f66-4588-a0d6-149b6b1fbacd"
      },
      "outputs": [],
      "source": [
        "image_path = 'outs/spatial/tissue_hires_image.png'\n",
        "im = plt.imread(image_path)"
      ]
    },
    {
      "cell_type": "code",
      "execution_count": null,
      "id": "tYo-489JiCdN",
      "metadata": {
        "colab": {
          "base_uri": "https://localhost:8080/",
          "height": 484
        },
        "id": "tYo-489JiCdN",
        "outputId": "aba0186f-3419-43b2-dbb6-91d1923548a8"
      },
      "outputs": [],
      "source": [
        "fig, ax = plt.subplots(figsize=(4,4))\n",
        "_ = vp.plt.imshow(adata, ax = ax, origin = 'upper')"
      ]
    },
    {
      "cell_type": "markdown",
      "id": "d96c03d1-5657-4105-adcf-659751d9fc71",
      "metadata": {
        "id": "d96c03d1-5657-4105-adcf-659751d9fc71"
      },
      "source": [
        "The array of dots framing the tissue seen in this image is the fiducials, used to align the tissue image to the positions of the Visium spots, so gene expression can be matched to spatial locations. The alignment of the fiducials is shown in `aligned_fiducials.jpg`. Space Ranger can automatically detect which spots are in tissue, and these spots are highlighted in `detected_tissue_image.jpg`.\n",
        "\n",
        "Inside the `scalefactors_json.json` file:"
      ]
    },
    {
      "cell_type": "code",
      "execution_count": null,
      "id": "21587534-f423-40d4-98e1-4fb34546eee3",
      "metadata": {
        "colab": {
          "base_uri": "https://localhost:8080/"
        },
        "id": "21587534-f423-40d4-98e1-4fb34546eee3",
        "outputId": "43209733-c9b1-4d69-8d07-55f356eac562"
      },
      "outputs": [],
      "source": [
        "json_path = outs_dir / 'spatial' / 'scalefactors_json.json'\n",
        "\n",
        "with json_path.open() as file:\n",
        "    print(json.load(file))"
      ]
    },
    {
      "cell_type": "markdown",
      "id": "766868d5-d2af-41b0-bf66-d9be2b68cf38",
      "metadata": {
        "id": "766868d5-d2af-41b0-bf66-d9be2b68cf38"
      },
      "source": [
        "Here we show the RGB channels separately"
      ]
    },
    {
      "cell_type": "code",
      "execution_count": null,
      "id": "7guORtYUPT7z",
      "metadata": {
        "colab": {
          "base_uri": "https://localhost:8080/",
          "height": 475
        },
        "id": "7guORtYUPT7z",
        "outputId": "5e04a0c8-07fa-48c0-9fa6-f39b67769441"
      },
      "outputs": [],
      "source": [
        "image_path = 'outs/spatial/tissue_hires_image.png'\n",
        "im = plt.imread(image_path)\n",
        "\n",
        "# Split the image into RGB components\n",
        "r = im[:, :, 0]\n",
        "g = im[:, :, 1]\n",
        "b = im[:, :, 2]\n",
        "\n",
        "r = np.flipud(r)\n",
        "g = np.flipud(g)\n",
        "b = np.flipud(b)\n",
        "\n",
        "# Create a figure with 3 subplots side by side\n",
        "fig, axs = plt.subplots(1, 3, figsize=(15, 5))\n",
        "\n",
        "# Display each channel\n",
        "axs[0].imshow(r, cmap='gray', origin='lower')\n",
        "axs[0].set_title('Red Channel')\n",
        "axs[0].axis('off')\n",
        "\n",
        "axs[1].imshow(g, cmap='gray', origin='lower')\n",
        "axs[1].set_title('Green Channel')\n",
        "axs[1].axis('off')\n",
        "\n",
        "axs[2].imshow(b, cmap='gray', origin='lower')\n",
        "axs[2].set_title('Blue Channel')\n",
        "axs[2].axis('off')\n",
        "\n",
        "plt.show()"
      ]
    },
    {
      "cell_type": "code",
      "execution_count": null,
      "id": "rt0MhQ3DRr7d",
      "metadata": {
        "colab": {
          "base_uri": "https://localhost:8080/",
          "height": 667
        },
        "id": "rt0MhQ3DRr7d",
        "outputId": "e3cfb72f-85e8-4f02-a7de-a6b84a84c50b"
      },
      "outputs": [],
      "source": [
        "r = im[:, :, 0].flatten()\n",
        "g = im[:, :, 1].flatten()\n",
        "b = im[:, :, 2].flatten()\n",
        "\n",
        "# Create histograms\n",
        "plt.figure(figsize=(6,3))\n",
        "plt.hist(r, bins=100, color='red', alpha=0.5, label='Red Channel')\n",
        "plt.hist(g, bins=100, color='green', alpha=0.5, label='Green Channel')\n",
        "plt.hist(b, bins=100, color='blue', alpha=0.5, label='Blue Channel')\n",
        "\n",
        "# Add labels and title\n",
        "plt.xlabel('Intensity Value')\n",
        "plt.ylabel('Count')\n",
        "plt.title('Histogram of RGB Channels')\n",
        "plt.legend()\n",
        "\n",
        "# Show the plot\n",
        "plt.show()"
      ]
    },
    {
      "cell_type": "markdown",
      "id": "-O2QCJ6XSf7o",
      "metadata": {
        "id": "-O2QCJ6XSf7o"
      },
      "source": [
        "The tissue can be discerned with thresholding. The tall peak on the right is the background. The much lower peaks from around 0.6 to 0.85 must be the tissue. To capture the faint bluish region, the blue channel is used for thresholding. The threshold here is chosen based on the histogram and experimenting with nearby values."
      ]
    },
    {
      "cell_type": "code",
      "execution_count": null,
      "id": "OjUAW-0lSdJD",
      "metadata": {
        "colab": {
          "base_uri": "https://localhost:8080/",
          "height": 517
        },
        "id": "OjUAW-0lSdJD",
        "outputId": "e829bd01-c1a4-440d-a804-965c39908359"
      },
      "outputs": [],
      "source": [
        "img2 = color.rgb2gray(im)\n",
        "plt.figure(figsize=(4, 4))\n",
        "_ = plt.imshow(img2, origin = 'upper', cmap = 'gray')"
      ]
    },
    {
      "cell_type": "code",
      "execution_count": null,
      "id": "vhQ3eiCrTPTu",
      "metadata": {
        "colab": {
          "base_uri": "https://localhost:8080/",
          "height": 517
        },
        "id": "vhQ3eiCrTPTu",
        "outputId": "23f81cc8-007d-4e6f-b9bb-fa81531157dc"
      },
      "outputs": [],
      "source": [
        "mask = im[:,:,2] < 0.87\n",
        "plt.figure(figsize=(4, 4))\n",
        "_ = plt.imshow(mask, origin='upper', cmap = 'gray')"
      ]
    },
    {
      "cell_type": "markdown",
      "id": "7pwMkP72UNvm",
      "metadata": {
        "id": "7pwMkP72UNvm"
      },
      "source": [
        "Then we use an opening operation (erosion followed by dilation) to denoise"
      ]
    },
    {
      "cell_type": "code",
      "execution_count": null,
      "id": "U--U499EUNZe",
      "metadata": {
        "colab": {
          "base_uri": "https://localhost:8080/",
          "height": 517
        },
        "id": "U--U499EUNZe",
        "outputId": "eb31c14e-6378-4d63-a419-5999d6c9a6d8"
      },
      "outputs": [],
      "source": [
        "kern = np.ones((3, 3), dtype=np.uint8)\n",
        "\n",
        "mask_open = binary_opening(mask, structure=kern)\n",
        "\n",
        "plt.figure(figsize=(4, 4))\n",
        "_ = plt.imshow(mask_open, origin='upper', cmap = 'gray')"
      ]
    },
    {
      "cell_type": "markdown",
      "id": "FkG4G0YOYUuV",
      "metadata": {
        "id": "FkG4G0YOYUuV"
      },
      "source": [
        "There are some small holes in the tissue, which can be removed by a closing operation (dilation followed by erosion):"
      ]
    },
    {
      "cell_type": "code",
      "execution_count": null,
      "id": "6IoC3vGuXDA1",
      "metadata": {
        "colab": {
          "base_uri": "https://localhost:8080/",
          "height": 517
        },
        "id": "6IoC3vGuXDA1",
        "outputId": "985d6143-0b17-4f49-d06f-90c4f6925263"
      },
      "outputs": [],
      "source": [
        "mask_close = binary_closing(mask_open, kern)\n",
        "plt.figure(figsize=(4, 4))\n",
        "_ = plt.imshow(mask_close, origin='upper', cmap = 'gray')"
      ]
    },
    {
      "cell_type": "markdown",
      "id": "AOUndBjEYjhB",
      "metadata": {
        "id": "AOUndBjEYjhB"
      },
      "source": [
        "There are some larger holes in the tissue mask, which may be real holes or faint regions with few nuclei missed by thresholding. They might not be large enough to affect which Visium spots intersect the tissue.\n",
        "\n",
        "Now the main piece of tissue is clear. It must be the object with the largest area. However, there are two small pieces that should belong to the tissue at the top left. The debris and fiducials can be removed by setting all pixels in the mask outside the bounding box of the main piece to 0. Here we assign a different value to each contiguous object and find the area among other shape features (e.g. perimeter) of each object."
      ]
    },
    {
      "cell_type": "code",
      "execution_count": null,
      "id": "I25nToPnYlIO",
      "metadata": {
        "colab": {
          "base_uri": "https://localhost:8080/"
        },
        "id": "I25nToPnYlIO",
        "outputId": "b0d5cc32-7315-416b-d3c9-4852e8df2aaf"
      },
      "outputs": [],
      "source": [
        "mask_label = label(mask_close, connectivity=2)\n",
        "properties = regionprops(mask_label)\n",
        "\n",
        "def radii_from_centroid(region):\n",
        "    centroid = np.array(region.centroid)\n",
        "    coords = np.array(region.coords)\n",
        "    distances = np.linalg.norm(coords - centroid, axis=1)\n",
        "    return distances\n",
        "\n",
        "# Print area and perimeter for each region\n",
        "for prop in properties[:6]:\n",
        "    radii = radii_from_centroid(prop)\n",
        "\n",
        "    print(f\"Label: {prop.label}, Area: {prop.area}, Perimeter: {prop.perimeter}, Radius mean: {np.mean(radii)}, Radius std: {np.std(radii)}, Radius min: {np.min(radii)}, Radius max: {np.max(radii)}\")"
      ]
    },
    {
      "cell_type": "code",
      "execution_count": null,
      "id": "ONfN5FKClOb_",
      "metadata": {
        "colab": {
          "base_uri": "https://localhost:8080/"
        },
        "id": "ONfN5FKClOb_",
        "outputId": "04263c95-3d84-4759-bad5-62e302d8f453"
      },
      "outputs": [],
      "source": [
        "max_area = 0\n",
        "max_label = None\n",
        "for prop in properties:\n",
        "    if prop.area > max_area:\n",
        "        max_area = prop.area\n",
        "        max_label = prop.label\n",
        "\n",
        "if max_label is not None:\n",
        "    inds = np.argwhere(mask_label == max_label)\n",
        "    print(\"Coordinates of the region with the max area:\")\n",
        "    print(inds[:6])  # prints first 6 coordinates\n",
        "else:\n",
        "    print(\"No regions found or something went wrong.\")"
      ]
    },
    {
      "cell_type": "code",
      "execution_count": null,
      "id": "62Zr32eql7yv",
      "metadata": {
        "colab": {
          "base_uri": "https://localhost:8080/",
          "height": 517
        },
        "id": "62Zr32eql7yv",
        "outputId": "99abbe82-b0e6-4bf5-802f-2aaebf9dd28d"
      },
      "outputs": [],
      "source": [
        "region = next((prop for prop in properties if prop.label == max_label), None)\n",
        "\n",
        "if region is not None:\n",
        "    # Extract the bounding box of the region with the max area\n",
        "    minr, minc, maxr, maxc = region.bbox\n",
        "\n",
        "    # Compute indices to zero out\n",
        "    # Rows outside the bounding box\n",
        "    row_inds = np.concatenate((np.arange(minr), np.arange(maxr + 1, mask_label.shape[0])))\n",
        "    # Columns outside the bounding box\n",
        "    col_inds = np.concatenate((np.arange(minc), np.arange(maxc + 1, mask_label.shape[1])))\n",
        "\n",
        "    # Set these regions in the mask to zero\n",
        "    mask_label[row_inds, :] = 0\n",
        "    mask_label[:, col_inds] = 0\n",
        "else:\n",
        "    print(\"Region not found.\")\n",
        "\n",
        "plt.figure(figsize=(4, 4))\n",
        "_ = plt.imshow(mask_label, origin='upper', cmap = 'gray')"
      ]
    },
    {
      "cell_type": "markdown",
      "id": "M3HpPrEx02gf",
      "metadata": {
        "id": "M3HpPrEx02gf"
      },
      "source": [
        "Then remove the small pieces that are debris."
      ]
    },
    {
      "cell_type": "code",
      "execution_count": null,
      "id": "CmiZsE-lQAZo",
      "metadata": {
        "colab": {
          "base_uri": "https://localhost:8080/"
        },
        "id": "CmiZsE-lQAZo",
        "outputId": "4d443135-9608-4274-bc0d-dfa3b8487df2"
      },
      "outputs": [],
      "source": [
        "np.unique(mask_label)"
      ]
    },
    {
      "cell_type": "code",
      "execution_count": null,
      "id": "PLsGJnrj01hu",
      "metadata": {
        "colab": {
          "base_uri": "https://localhost:8080/",
          "height": 556
        },
        "id": "PLsGJnrj01hu",
        "outputId": "0ccc2215-88e0-4a3a-da99-f7c7aac93c77"
      },
      "outputs": [],
      "source": [
        "unique_labels = np.unique(mask_label)[1:]\n",
        "filtered_props = [prop for prop in properties if prop.label in unique_labels]\n",
        "\n",
        "# Create a DataFrame from the filtered properties\n",
        "data = {'label': [prop.label for prop in filtered_props], 'area': [prop.area for prop in filtered_props]}\n",
        "\n",
        "df = pd.DataFrame(data)\n",
        "\n",
        "# Sort by area\n",
        "df_sorted = df.sort_values(by='area', ascending=False)\n",
        "\n",
        "# Plot excluding the largest\n",
        "plt.figure(figsize=(6,3))\n",
        "plt.plot(df_sorted['area'].iloc[1:].values, marker='o')  # Line plot with points\n",
        "plt.xlabel('Index (excluding largest)')\n",
        "plt.ylabel('Area')\n",
        "plt.title('Areas of Detected Regions (Excluding the Largest)')\n",
        "plt.show()"
      ]
    },
    {
      "cell_type": "code",
      "execution_count": null,
      "id": "nS3sUQM1Qg7s",
      "metadata": {
        "colab": {
          "base_uri": "https://localhost:8080/",
          "height": 359
        },
        "id": "nS3sUQM1Qg7s",
        "outputId": "0efcbb40-efd5-42a2-f27a-896746aa5c61"
      },
      "outputs": [],
      "source": [
        "df_sorted[:10]"
      ]
    },
    {
      "cell_type": "markdown",
      "id": "z-bipvhjSIbo",
      "metadata": {
        "id": "z-bipvhjSIbo"
      },
      "source": [
        "Object number 793 is a piece of debris at the bottom left. The other pieces with area over 100 pixels are tissue. Since debris really is small bits of tissue, so the boundary between debris and tissue can be blurry. Here the two are distinguished by morphology on the H&E image and proximity to the main tissue."
      ]
    },
    {
      "cell_type": "code",
      "execution_count": null,
      "id": "TUj0MFeVSDFB",
      "metadata": {
        "colab": {
          "base_uri": "https://localhost:8080/",
          "height": 517
        },
        "id": "TUj0MFeVSDFB",
        "outputId": "cf029e92-3099-44ae-a00c-9d019ec79ed9"
      },
      "outputs": [],
      "source": [
        "plt.figure(figsize=(4,4))\n",
        "_ = plt.imshow(mask_label == 793, origin='upper', cmap = 'gray')"
      ]
    },
    {
      "cell_type": "markdown",
      "id": "EijdcXpzSj-4",
      "metadata": {
        "id": "EijdcXpzSj-4"
      },
      "source": [
        "Here we remove the debris from the mask"
      ]
    },
    {
      "cell_type": "code",
      "execution_count": null,
      "id": "RWbAz15NV3Uc",
      "metadata": {
        "id": "RWbAz15NV3Uc"
      },
      "outputs": [],
      "source": [
        "mask_label[mask_label == 793] = 0\n",
        "\n",
        "for unique_label in unique_labels:\n",
        "    if int(df_sorted['area'][df_sorted['label'] == unique_label]) < 100:\n",
        "        mask_label[mask_label == unique_label] = 0"
      ]
    },
    {
      "cell_type": "markdown",
      "id": "I47sKrPdW70w",
      "metadata": {
        "id": "I47sKrPdW70w"
      },
      "source": [
        "Since most holes in the mask are faint regions of the tissue missed by thresholding, the holes will be filled"
      ]
    },
    {
      "cell_type": "code",
      "execution_count": null,
      "id": "C_Geexs4VrOL",
      "metadata": {
        "id": "C_Geexs4VrOL"
      },
      "outputs": [],
      "source": [
        "mask_label = binary_fill_holes(mask_label)"
      ]
    },
    {
      "cell_type": "code",
      "execution_count": null,
      "id": "-On0UM57dvx7",
      "metadata": {
        "id": "-On0UM57dvx7"
      },
      "outputs": [],
      "source": [
        "# Create outlines by subtracting eroded version from the mask\n",
        "eroded = morphology.erosion(mask_label)\n",
        "outlines = np.logical_xor(mask_label, eroded)\n",
        "\n",
        "# Create an RGBA image based on the grayscale image\n",
        "rgba_img = color.gray2rgba(img2)\n",
        "\n",
        "# Color map: Modify this part as per the number of labels and required colors\n",
        "colors = {\n",
        "    1: (1, 1, 0, 0.3),  # Yellow fill with 30% opacity\n",
        "    2: (1, 0, 0, 1)     # Red for outlines with full opacity\n",
        "}\n",
        "\n",
        "# Apply colors: fill and outlines\n",
        "for label, color_value in colors.items():\n",
        "    if label == 1:\n",
        "        mask = mask_label > 0\n",
        "        rgba_img[mask] = rgba_img[mask] * (1 - color_value[3]) + np.array(color_value[:3] + (0,)) * color_value[3]\n",
        "    elif label == 2:\n",
        "        rgba_img[outlines > 0] = color_value\n"
      ]
    },
    {
      "cell_type": "code",
      "execution_count": null,
      "id": "cznZeKFUd9m-",
      "metadata": {
        "colab": {
          "base_uri": "https://localhost:8080/",
          "height": 517
        },
        "id": "cznZeKFUd9m-",
        "outputId": "74b1a360-69bf-4602-d46e-445f5ab8d856"
      },
      "outputs": [],
      "source": [
        "plt.figure(figsize=(4,4))\n",
        "_ = plt.imshow(rgba_img, origin = 'upper')"
      ]
    },
    {
      "cell_type": "markdown",
      "id": "Sh3V80fYe67Z",
      "metadata": {
        "id": "Sh3V80fYe67Z"
      },
      "source": [
        "This segmentation process took a lot of manual oversight, in choosing the threshold, choosing kernel size and shape in the opening and closing operations, deciding whether to fill the holes, and deciding what is debris and what is tissue."
      ]
    },
    {
      "cell_type": "markdown",
      "id": "pOiEsHVNfCYH",
      "metadata": {
        "id": "pOiEsHVNfCYH"
      },
      "source": [
        "# Convert tissue mask to polygon"
      ]
    },
    {
      "cell_type": "code",
      "execution_count": null,
      "id": "KqOH1RVWgbCl",
      "metadata": {
        "id": "KqOH1RVWgbCl"
      },
      "outputs": [],
      "source": [
        "adata.uns[\"spatial\"][\"geom\"] = {}\n",
        "adata.uns[\"spatial\"][\"geom\"][\"tissueBoundary_hires\"] = vp.spatial.get_tissue_boundary(adata, size = adata_image_res)"
      ]
    },
    {
      "cell_type": "markdown",
      "id": "9b513150",
      "metadata": {},
      "source": [
        "The tissue boundary must be scaled between hires image and full image"
      ]
    },
    {
      "cell_type": "code",
      "execution_count": null,
      "id": "ub6suRlfIGRI",
      "metadata": {
        "colab": {
          "base_uri": "https://localhost:8080/",
          "height": 121
        },
        "id": "ub6suRlfIGRI",
        "outputId": "e61ce01a-78e5-49ba-96f7-9e1b9185296a"
      },
      "outputs": [],
      "source": [
        "with json_path.open() as file:\n",
        "    data = json.load(file)\n",
        "    lowres_boundary_scale_factor = data['tissue_lowres_scalef']\n",
        "    hires_boundary_scale_factor = data['tissue_hires_scalef']\n",
        "    spot_scale_factor = data['spot_diameter_fullres']\n",
        "\n",
        "adata.uns[\"spatial\"][\"geom\"][\"tissueBoundary\"] = scale(adata.uns[\"spatial\"][\"geom\"][\"tissueBoundary_hires\"], xfact=1/hires_boundary_scale_factor, yfact = 1/hires_boundary_scale_factor, origin = (0,0))\n",
        "adata.uns[\"spatial\"][\"geom\"][\"tissueBoundary_lowres\"] = scale(adata.uns[\"spatial\"][\"geom\"][\"tissueBoundary\"], xfact=lowres_boundary_scale_factor, yfact = lowres_boundary_scale_factor, origin = (0,0))\n",
        "adata.uns[\"spatial\"][\"geom\"][\"tissueBoundary_hires_exterior\"] = adata.uns[\"spatial\"][\"geom\"][\"tissueBoundary_hires\"].exterior"
      ]
    },
    {
      "cell_type": "code",
      "execution_count": null,
      "id": "O3jlR_zIiyVR",
      "metadata": {
        "colab": {
          "base_uri": "https://localhost:8080/",
          "height": 526
        },
        "id": "O3jlR_zIiyVR",
        "outputId": "a49182ca-32f8-4e8b-9345-66359fbc4a64"
      },
      "outputs": [],
      "source": [
        "plt.figure(figsize=(4,4))\n",
        "plt.imshow(im, origin = 'upper')  # Show the image\n",
        "plt.title('Image with Contour Overlay')\n",
        "plt.axis('off')  # Hide axes\n",
        "\n",
        "x, y = adata.uns[\"spatial\"][\"geom\"][\"tissueBoundary_hires\"].exterior.xy\n",
        "plt.plot(x, y, color=\"red\", linewidth=2)  # Plot the polygon with a specified color and line width\n",
        "\n",
        "plt.show()"
      ]
    },
    {
      "cell_type": "code",
      "execution_count": null,
      "id": "o30XUC2WA5NN",
      "metadata": {
        "colab": {
          "base_uri": "https://localhost:8080/",
          "height": 1000
        },
        "id": "o30XUC2WA5NN",
        "outputId": "03d90961-6def-4756-ee99-e19fd7151275"
      },
      "outputs": [],
      "source": [
        "axs = vp.plt.plot_spatial_feature(\n",
        "    adata,\n",
        "    \"sum\",\n",
        "    image_kwargs=dict(),\n",
        "    annot_geom = 'tissueBoundary_hires_exterior',\n",
        "    subplot_kwargs=dict(figsize=(6,6), dpi=100, layout='tight')\n",
        ")"
      ]
    },
    {
      "cell_type": "markdown",
      "id": "nCYFuMwtPzhW",
      "metadata": {
        "id": "nCYFuMwtPzhW"
      },
      "source": [
        "The mouse olfactory bulb is conventionally plotted horizontally. The image can be transposed in histologial space to make the olfactory bulb horizontal. The tissue boundaries are recomputed on the transposed image."
      ]
    },
    {
      "cell_type": "code",
      "execution_count": null,
      "id": "0B1ynOCYPxSj",
      "metadata": {
        "id": "0B1ynOCYPxSj"
      },
      "outputs": [],
      "source": [
        "adata.uns[\"spatial\"][\"img\"][adata_image_res] = np.swapaxes(adata.uns[\"spatial\"][\"img\"][adata_image_res], 0, 1)\n",
        "transposed_im = np.transpose(im, (1, 0, 2))"
      ]
    },
    {
      "cell_type": "code",
      "execution_count": null,
      "id": "e1f9bab1",
      "metadata": {},
      "outputs": [],
      "source": [
        "# adata.uns[\"spatial\"][\"img\"][adata_image_res] = vp.spatial.rotate_img90(adata, k = 2)[adata_image_res]\n",
        "# transposed_im = np.rot90(transposed_im, 2)"
      ]
    },
    {
      "cell_type": "code",
      "execution_count": null,
      "id": "d52a0495",
      "metadata": {},
      "outputs": [],
      "source": [
        "adata.uns[\"spatial\"][\"geom\"][\"tissueBoundary_hires\"] = vp.spatial.get_tissue_boundary(adata, size = adata_image_res)\n",
        "adata.uns[\"spatial\"][\"geom\"][\"tissueBoundary\"] = scale(adata.uns[\"spatial\"][\"geom\"][\"tissueBoundary_hires\"], xfact=1/hires_boundary_scale_factor, yfact = 1/hires_boundary_scale_factor, origin = (0,0))\n",
        "adata.uns[\"spatial\"][\"geom\"][\"tissueBoundary_lowres\"] = scale(adata.uns[\"spatial\"][\"geom\"][\"tissueBoundary\"], xfact=lowres_boundary_scale_factor, yfact = lowres_boundary_scale_factor, origin = (0,0))\n",
        "adata.uns[\"spatial\"][\"geom\"][\"tissueBoundary_hires_exterior\"] = adata.uns[\"spatial\"][\"geom\"][\"tissueBoundary_hires\"].exterior"
      ]
    },
    {
      "cell_type": "code",
      "execution_count": null,
      "id": "TqFGMJ8r0dpS",
      "metadata": {
        "id": "TqFGMJ8r0dpS"
      },
      "outputs": [],
      "source": [
        "plt.figure(figsize=(4,4))\n",
        "plt.imshow(transposed_im, origin = 'upper')\n",
        "plt.title('Image with Contour Overlay')\n",
        "# plt.axis('off')\n",
        "\n",
        "x, y = adata.uns[\"spatial\"][\"geom\"][\"tissueBoundary_hires\"].exterior.xy\n",
        "plt.plot(x, y, color=\"red\", linewidth=2)\n",
        "\n",
        "plt.show()"
      ]
    },
    {
      "cell_type": "code",
      "execution_count": null,
      "id": "up0cJmBTPxfM",
      "metadata": {
        "id": "up0cJmBTPxfM"
      },
      "outputs": [],
      "source": [
        "spatial_coords_df = adata.obs[['pxl_row_in_fullres', 'pxl_col_in_fullres']]\n",
        "spatial_coords_df"
      ]
    },
    {
      "cell_type": "markdown",
      "id": "e66df556",
      "metadata": {},
      "source": [
        "Then we can use geometric operations to find which spots intersect tissue (intersect with or covered by boundary), which spots are fully covered by tissue (without intersecting), and how much of each spot intersects tissue."
      ]
    },
    {
      "cell_type": "code",
      "execution_count": null,
      "id": "uCF0U9xAUfFT",
      "metadata": {
        "id": "uCF0U9xAUfFT"
      },
      "outputs": [],
      "source": [
        "adata.obs['pxl_col_in_fullres_transposed'] = adata.obs.apply(\n",
        "    lambda row: row['pxl_row_in_fullres'],\n",
        "    axis=1\n",
        ")\n",
        "adata.obs['pxl_row_in_fullres_transposed'] = adata.obs.apply(\n",
        "    lambda row: row['pxl_col_in_fullres'],\n",
        "    axis=1\n",
        ")\n",
        "\n",
        "adata.obs.rename(columns={\n",
        "    'pxl_row_in_fullres': 'pxl_row_in_fullres_upright',\n",
        "    'pxl_col_in_fullres': 'pxl_col_in_fullres_upright',\n",
        "    'pxl_col_in_fullres_transposed': 'pxl_col_in_fullres',\n",
        "    'pxl_row_in_fullres_transposed': 'pxl_row_in_fullres'\n",
        "}, inplace=True)\n",
        "\n",
        "visium_spots = vp.spatial.get_visium_spots(adata, with_radius=True)\n",
        "_ = vp.spatial.set_geometry(adata, geom=\"spot_poly\", values=visium_spots)\n",
        "\n",
        "def check_intersection(row):\n",
        "    # Create a circle at the given coordinates with the specified radius\n",
        "    circle = Point(row['pxl_col_in_fullres'], row['pxl_row_in_fullres']).buffer(0.5*spot_scale_factor)\n",
        "\n",
        "    # Check if the circle intersects any polygon\n",
        "    found_intersection = circle.intersects(adata.uns[\"spatial\"][\"geom\"][\"tissueBoundary\"])\n",
        "\n",
        "    return found_intersection\n",
        "\n",
        "def check_contain(row):\n",
        "    # Create a circle at the given coordinates with the specified radius\n",
        "    circle = Point(row['pxl_col_in_fullres'], row['pxl_row_in_fullres']).buffer(0.5*spot_scale_factor)\n",
        "\n",
        "    # Check if the circle intersects any polygon\n",
        "    found_contain = contains(adata.uns[\"spatial\"][\"geom\"][\"tissueBoundary\"], circle)\n",
        "\n",
        "    return found_contain\n",
        "\n",
        "adata.obs['intersects_boundary'] = adata.obs.apply(check_intersection, axis=1)\n",
        "adata.obs['contained_in_boundary'] = adata.obs.apply(check_contain, axis=1)"
      ]
    },
    {
      "cell_type": "code",
      "execution_count": null,
      "id": "Dw6guhHvQcwl",
      "metadata": {
        "id": "Dw6guhHvQcwl"
      },
      "outputs": [],
      "source": [
        "axs = vp.plt.plot_spatial_feature(\n",
        "    adata,\n",
        "    \"sum\",\n",
        "    image_kwargs=dict(),\n",
        "    annot_geom = 'tissueBoundary_hires_exterior',\n",
        "    subplot_kwargs=dict(figsize=(6,6), dpi=100, layout='tight')\n",
        ")"
      ]
    },
    {
      "cell_type": "markdown",
      "id": "68d0046f",
      "metadata": {},
      "source": [
        "Discrepancies between Space Ranger’s annotation and the annotation based on tissue segmentation here:"
      ]
    },
    {
      "cell_type": "code",
      "execution_count": null,
      "id": "77c69f50",
      "metadata": {},
      "outputs": [],
      "source": [
        "def evaluate_conditions(row):\n",
        "    if bool(row['in_tissue']) and not bool(row['intersects_boundary']):\n",
        "        return \"Space Ranger\"\n",
        "    elif bool(row['intersects_boundary']) and not bool(row['in_tissue']):\n",
        "        return \"Segmentation\"\n",
        "    else:\n",
        "        return \"Same\"\n",
        "    \n",
        "adata.obs['diff_sr'] = adata.obs.apply(evaluate_conditions, axis=1)\n",
        "\n",
        "adata.obs['diff_sr'] = adata.obs['diff_sr'].astype('category')"
      ]
    },
    {
      "cell_type": "code",
      "execution_count": null,
      "id": "aec58720",
      "metadata": {},
      "outputs": [],
      "source": [
        "colors_dict = {'Space Ranger': 'orange', 'Segmentation': 'purple', 'Same': 'gray'}\n",
        "sorted_color_dict = {key: colors_dict[key] for key in sorted(colors_dict.keys())}\n",
        "colors_list = list(sorted_color_dict.values())\n",
        "my_cat_cmap = ListedColormap(colors_list)"
      ]
    },
    {
      "cell_type": "code",
      "execution_count": null,
      "id": "03aaa444",
      "metadata": {},
      "outputs": [],
      "source": [
        "axs = vp.plt.plot_spatial_feature(\n",
        "    adata,\n",
        "    \"diff_sr\",\n",
        "    annot_geom = 'tissueBoundary_hires_exterior',\n",
        "    image_kwargs=dict(),\n",
        "    cat_cmap=my_cat_cmap,\n",
        "    subplot_kwargs=dict(figsize=(6,6), dpi=100, layout='tight')\n",
        ")"
      ]
    },
    {
      "cell_type": "markdown",
      "id": "94e09df8",
      "metadata": {},
      "source": [
        "Spots at the margin can intersect the tissue without being covered by it."
      ]
    },
    {
      "cell_type": "code",
      "execution_count": null,
      "id": "93f6e8a6",
      "metadata": {},
      "outputs": [],
      "source": [
        "def intersect_without_contain(row):\n",
        "    if bool(row['intersects_boundary']) and not bool(row['contained_in_boundary']):\n",
        "        return True\n",
        "    else:\n",
        "        return False\n",
        "    \n",
        "adata.obs['intersect_without_contain'] = adata.obs.apply(intersect_without_contain, axis=1)\n",
        "\n",
        "adata.obs['intersect_without_contain'] = adata.obs['intersect_without_contain'].astype('category')\n",
        "\n",
        "colors_dict = {'True': 'blue', 'False': 'orange'}\n",
        "sorted_color_dict = {key: colors_dict[key] for key in sorted(colors_dict.keys())}\n",
        "colors_list = list(sorted_color_dict.values())\n",
        "my_cat_cmap = ListedColormap(colors_list)\n",
        "\n",
        "axs = vp.plt.plot_spatial_feature(\n",
        "    adata,\n",
        "    \"intersect_without_contain\",\n",
        "    annot_geom = 'tissueBoundary_hires_exterior',\n",
        "    image_kwargs=dict(),\n",
        "    cat_cmap=my_cat_cmap,\n",
        "    subplot_kwargs=dict(figsize=(6,6), dpi=100, layout='tight')\n",
        ")"
      ]
    },
    {
      "cell_type": "markdown",
      "id": "f470e6a7",
      "metadata": {},
      "source": [
        "We can also get the geometries of the intersections between the tissue and the Visium spots, and then calculate what percentage of each spot is in tissue. However, this percentage may not be very useful if the tissue segmentation is subject to error. This percentage may be more useful for pathologist annotated histological regions or objects such as nuclei and myofibers."
      ]
    },
    {
      "cell_type": "code",
      "execution_count": null,
      "id": "f6256d6e",
      "metadata": {},
      "outputs": [],
      "source": [
        "def check_fraction_visium_spot_in_tissue(row):\n",
        "    # Create a circle at the given coordinates with the specified radius\n",
        "    circle = Point(row['pxl_col_in_fullres'], row['pxl_row_in_fullres']).buffer(0.5*spot_scale_factor)\n",
        "\n",
        "    # Check if the circle intersects any polygon\n",
        "    intersection = circle.intersection(adata.uns[\"spatial\"][\"geom\"][\"tissueBoundary\"])\n",
        "\n",
        "    fraction_in_tissue = intersection.area / circle.area\n",
        "\n",
        "    return fraction_in_tissue\n",
        "\n",
        "adata.obs['fraction_in_tissue'] = adata.obs.apply(check_fraction_visium_spot_in_tissue, axis=1)"
      ]
    },
    {
      "cell_type": "markdown",
      "id": "355bd3e2",
      "metadata": {},
      "source": [
        "For spots that intersect tissue, does total counts relate to percentage of the spot in tissue?"
      ]
    },
    {
      "cell_type": "code",
      "execution_count": null,
      "id": "836d094c",
      "metadata": {},
      "outputs": [],
      "source": [
        "# Create the scatter plot\n",
        "adata_list = adata.obs[adata.obs['fraction_in_tissue'] > 0]\n",
        "color_values = adata_list['intersect_without_contain'].astype(str).map({'True': 'blue', 'False': 'orange'})\n",
        "\n",
        "plt.figure(figsize=(6,3))\n",
        "plt.scatter(adata_list['fraction_in_tissue'], adata_list['sum'], c=color_values, alpha=0.5)  # alpha for transparency\n",
        "\n",
        "# Adding labels and title\n",
        "plt.xlabel('Fraction in Tissue')\n",
        "plt.ylabel('Sum')\n",
        "plt.title('Scatter Plot of Sum vs. Fraction in Tissue')\n",
        "\n",
        "# Show grid\n",
        "plt.grid(True)\n",
        "\n",
        "legend_elements = [\n",
        "    Line2D([0], [0], marker='o', color='w', markerfacecolor='blue', markersize=10, label='Intersects without Contain: True'),\n",
        "    Line2D([0], [0], marker='o', color='w', markerfacecolor='orange', markersize=10, label='Intersects without Contain: False')\n",
        "]\n",
        "plt.legend(handles=legend_elements, title=\"Intersection Status\")\n",
        "\n",
        "# Display the plot\n",
        "plt.show()"
      ]
    },
    {
      "cell_type": "markdown",
      "id": "0a585c73",
      "metadata": {},
      "source": [
        "Spots that are not fully covered by tissue have lower total UMI counts, which can be due to both that they are not fully in tissue and the cell types with lower total counts in the histological region near the edge, as some spots fully covered by tissue also have low UMI counts."
      ]
    },
    {
      "cell_type": "markdown",
      "id": "cb141ad7",
      "metadata": {},
      "source": [
        "# Spatial autocorrelation of QC metrics"
      ]
    },
    {
      "cell_type": "code",
      "execution_count": null,
      "id": "ae41e024",
      "metadata": {},
      "outputs": [],
      "source": [
        "adata_raw = adata.copy()"
      ]
    },
    {
      "cell_type": "code",
      "execution_count": null,
      "id": "40acd1c7",
      "metadata": {},
      "outputs": [],
      "source": [
        "mask = adata.obs['fraction_in_tissue'] > 0\n",
        "\n",
        "# Subset the AnnData object using the mask\n",
        "adata = adata[mask].copy()\n",
        "\n",
        "visium_spots = vp.spatial.get_visium_spots(adata, with_radius=True)\n",
        "_ = vp.spatial.set_geometry(adata, geom=\"spot_poly\", values=visium_spots)"
      ]
    },
    {
      "cell_type": "code",
      "execution_count": null,
      "id": "8c7c6908",
      "metadata": {},
      "outputs": [],
      "source": [
        "nn_graph = 'visium_graph'\n",
        "nn_graph_object = vp.spatial.find_visium_graph(\n",
        "    adata,\n",
        "    subset=None,\n",
        "    geom=None,\n",
        "    graph_key=None,\n",
        "    inplace=False,  # This is important as we don't want to modify the original graph\n",
        ")\n",
        "\n",
        "sparse_matrix = csr_matrix(nx.to_scipy_sparse_array(nn_graph_object, nodelist=sorted(nn_graph_object.nodes())))\n",
        "\n",
        "adata.obsp[nn_graph] = sparse_matrix"
      ]
    },
    {
      "cell_type": "code",
      "execution_count": null,
      "id": "705812ca",
      "metadata": {},
      "outputs": [],
      "source": [
        "visium_graph = vp.plotting.draw_graph(adata, nn_graph)\n",
        "vp.spatial.set_default_graph(adata, nn_graph)\n",
        "vp.spatial.to_spatial_weights(adata, graph_name=nn_graph)"
      ]
    },
    {
      "cell_type": "code",
      "execution_count": null,
      "id": "a64beb52",
      "metadata": {},
      "outputs": [],
      "source": [
        "vp.spatial.moran(adata, feature = qc_features, graph_name = nn_graph, permutations = 200)\n",
        "adata.uns['spatial']['moran'][nn_graph].loc[qc_features, [\"I\"]]"
      ]
    },
    {
      "cell_type": "code",
      "execution_count": null,
      "id": "28d0dbd7",
      "metadata": {},
      "outputs": [],
      "source": [
        "adata.uns['spatial']['moran'][nn_graph]"
      ]
    },
    {
      "cell_type": "code",
      "execution_count": null,
      "id": "87ff8c18",
      "metadata": {},
      "outputs": [],
      "source": [
        "adata.uns['spatial']['moran_mc'][nn_graph]"
      ]
    },
    {
      "cell_type": "code",
      "execution_count": null,
      "id": "ea77a8c4",
      "metadata": {},
      "outputs": [],
      "source": [
        "qc_features"
      ]
    },
    {
      "cell_type": "code",
      "execution_count": null,
      "id": "21c05a46",
      "metadata": {},
      "outputs": [],
      "source": [
        "_ = vp.plotting.plot_moran_mc(adata, qc_features, nn_graph, figsize=(6,3))"
      ]
    },
    {
      "cell_type": "code",
      "execution_count": null,
      "id": "d6e4407d",
      "metadata": {},
      "outputs": [],
      "source": [
        "vp.spatial.compute_higher_order_neighbors(adata, order=8)\n",
        "vp.spatial.compute_correlogram(adata, qc_features, order=8)"
      ]
    },
    {
      "cell_type": "code",
      "execution_count": null,
      "id": "c4db95f3",
      "metadata": {},
      "outputs": [],
      "source": [
        "fig, ax = plt.subplots(figsize=(6,3))\n",
        "_ = vp.plt.plot_correlogram(adata, graph_name = nn_graph, features=qc_features, show_symbol=False, ax=ax)"
      ]
    },
    {
      "cell_type": "code",
      "execution_count": null,
      "id": "c8d35255",
      "metadata": {},
      "outputs": [],
      "source": [
        "_ = vp.spatial.local_moran(adata, feature = qc_features)"
      ]
    },
    {
      "cell_type": "code",
      "execution_count": null,
      "id": "2bfdd742",
      "metadata": {},
      "outputs": [],
      "source": [
        "vp.plotting.plot_local_result(adata, 'local_moran', qc_features, divergent = True, image_kwargs = dict(crop=True), figsize=(6,3))"
      ]
    },
    {
      "cell_type": "code",
      "execution_count": null,
      "id": "70945d66",
      "metadata": {},
      "outputs": [],
      "source": [
        "_ = vp.spatial.losh(adata, feature = qc_features)"
      ]
    },
    {
      "cell_type": "code",
      "execution_count": null,
      "id": "8de60fa9",
      "metadata": {},
      "outputs": [],
      "source": [
        "vp.plotting.plot_local_result(adata, 'losh', qc_features, divergent = True, image_kwargs = dict(crop=True), figsize=(6,3))"
      ]
    },
    {
      "cell_type": "code",
      "execution_count": null,
      "id": "447189f0",
      "metadata": {},
      "outputs": [],
      "source": [
        "vp.plotting.moran_plot(adata, feature = 'subsets_mito_percent', graph_name = 'visium_graph', figsize=(3,3))"
      ]
    },
    {
      "cell_type": "markdown",
      "id": "cfea627b",
      "metadata": {},
      "source": [
        "# Spatial autocorrelation of gene expression\n",
        "Normalize data and find highly variable genes"
      ]
    },
    {
      "cell_type": "code",
      "execution_count": null,
      "id": "e9b8233f",
      "metadata": {},
      "outputs": [],
      "source": [
        "adata.layers['counts'] = adata.X.copy()\n",
        "vp.utils.log_norm_counts(adata, inplace=True)\n",
        "adata.layers['logcounts'] = adata.X.copy()"
      ]
    },
    {
      "cell_type": "code",
      "execution_count": null,
      "id": "aa9ebe5e",
      "metadata": {},
      "outputs": [],
      "source": [
        "_ = vp.spatial.set_geometry(adata, geom=\"spot_poly\", values=visium_spots)"
      ]
    },
    {
      "cell_type": "code",
      "execution_count": null,
      "id": "d1eef40f",
      "metadata": {},
      "outputs": [],
      "source": [
        "gene_var = vp.utils.model_gene_var(adata.layers['logcounts'], gene_names=adata.var_names)\n",
        "hvgs = vp.utils.get_top_hvgs(gene_var)\n",
        "adata.var['highly_variable'] = False\n",
        "adata.var.loc[hvgs, 'highly_variable'] = True"
      ]
    },
    {
      "cell_type": "markdown",
      "id": "79276cca",
      "metadata": {},
      "source": [
        "Find Moran’s I for all highly variable genes:"
      ]
    },
    {
      "cell_type": "code",
      "execution_count": null,
      "id": "ac499dd9",
      "metadata": {},
      "outputs": [],
      "source": [
        "vp.spatial.moran(adata, feature=hvgs, dim='var', graph_name=nn_graph)\n",
        "hvgs_moransI = adata.uns['spatial']['moran'][nn_graph].loc[hvgs, 'I']\n",
        "adata.var.loc[hvgs, \"moran\"] = hvgs_moransI"
      ]
    },
    {
      "cell_type": "code",
      "execution_count": null,
      "id": "30b727af",
      "metadata": {},
      "outputs": [],
      "source": [
        "adata.var.loc[hvgs, [\"symbol\", \"moran\"]].sort_values(by='moran')"
      ]
    },
    {
      "cell_type": "code",
      "execution_count": null,
      "id": "22b270a9",
      "metadata": {},
      "outputs": [],
      "source": [
        "_ = vp.plt.plot_features_histogram(\n",
        "    adata,\n",
        "    \"moran\",\n",
        "    bins=100,\n",
        "    log=False,\n",
        "    histtype=\"bar\" ,\n",
        "    show_symbol=True,\n",
        "    figsize = (6,3)\n",
        ")"
      ]
    },
    {
      "cell_type": "markdown",
      "id": "5111d30b",
      "metadata": {},
      "source": [
        "The vast majority of genes have positive Moran’s I. Here we’ll find the genes with the highest Moran’s I:"
      ]
    },
    {
      "cell_type": "code",
      "execution_count": null,
      "id": "51f4fd06",
      "metadata": {},
      "outputs": [],
      "source": [
        "top_moran = adata.var[adata.var['highly_variable']]['moran'] \\\n",
        "                    .dropna() \\\n",
        "                    .sort_values(ascending=False) \\\n",
        "                    .head(9) \\\n",
        "                    .index.tolist()"
      ]
    },
    {
      "cell_type": "markdown",
      "id": "fec2d60d",
      "metadata": {},
      "source": [
        "We can use the gget info module from the gget package to get additional information on these genes, such as their descriptions, synonyms, transcripts and more from a collection of reference databases including Ensembl, UniProt and NCBI Here, we are showing their gene descriptions from NCBI:"
      ]
    },
    {
      "cell_type": "code",
      "execution_count": null,
      "id": "b394e080",
      "metadata": {},
      "outputs": [],
      "source": [
        "for ensembl_id in top_moran:\n",
        "    # print(ensembl_id)\n",
        "    try:\n",
        "        print(f\"{ensembl_id}: {gget.info(ensembl_id)['primary_gene_name'].iloc[0]}\")\n",
        "    except:\n",
        "        print(f\"{ensembl_id}: No gene name found\")"
      ]
    },
    {
      "cell_type": "markdown",
      "id": "7aba4b33",
      "metadata": {},
      "source": [
        "Plot the genes with the highest Moran’s I:"
      ]
    },
    {
      "cell_type": "code",
      "execution_count": null,
      "id": "38b108f4",
      "metadata": {},
      "outputs": [],
      "source": [
        "_ = vp.plt.plot_spatial_feature(\n",
        "    adata,\n",
        "    top_moran[:9],\n",
        "    layer = 'logcounts',\n",
        "    ncol = 3,\n",
        "    subplot_kwargs=dict(\n",
        "        figsize=(6,6),\n",
        "        layout='constrained',\n",
        "    ),\n",
        "    image_kwargs=dict(crop=True)\n",
        ")"
      ]
    },
    {
      "cell_type": "markdown",
      "id": "85a34e04",
      "metadata": {},
      "source": [
        "Here global Moran’s I seems to be more about tissue structure.\n",
        "\n",
        "Some genes have negative Moran’s I that might not be statistically significant:"
      ]
    },
    {
      "cell_type": "code",
      "execution_count": null,
      "id": "6ce6218d",
      "metadata": {},
      "outputs": [],
      "source": [
        "neg_moran = adata.var[adata.var['highly_variable']]['moran'] \\\n",
        "                    .dropna() \\\n",
        "                    .sort_values(ascending=True) \\\n",
        "                    .head(9) \\\n",
        "                    .index.tolist()\n",
        "\n",
        "for ensembl_id in neg_moran:\n",
        "    # print(ensembl_id)\n",
        "    try:\n",
        "        print(f\"{ensembl_id}: {gget.info(ensembl_id)['primary_gene_name'].iloc[0]}\")\n",
        "    except:\n",
        "        print(f\"{ensembl_id}: No gene name found\")"
      ]
    },
    {
      "cell_type": "code",
      "execution_count": null,
      "id": "5226b611",
      "metadata": {},
      "outputs": [],
      "source": [
        "_ = vp.plt.plot_spatial_feature(\n",
        "    adata,\n",
        "    neg_moran[:9],\n",
        "    layer = 'logcounts',\n",
        "    ncol = 3,\n",
        "    subplot_kwargs=dict(\n",
        "        figsize=(6,6),\n",
        "        layout='constrained',\n",
        "    ),\n",
        "    image_kwargs=dict(crop=True)\n",
        ")"
      ]
    },
    {
      "cell_type": "code",
      "execution_count": null,
      "id": "5844bce0",
      "metadata": {},
      "outputs": [],
      "source": [
        "vp.spatial.moran(adata, feature = neg_moran, graph_name = nn_graph, dim = 'var', permutations = 200)"
      ]
    },
    {
      "cell_type": "code",
      "execution_count": null,
      "id": "e4731c00",
      "metadata": {},
      "outputs": [],
      "source": [
        "_ = vp.plotting.plot_moran_mc(adata, neg_moran, nn_graph, figsize=(6,3))"
      ]
    },
    {
      "cell_type": "code",
      "execution_count": null,
      "id": "ccdbe6a2",
      "metadata": {},
      "outputs": [],
      "source": [
        "for gene in neg_moran:\n",
        "    true_moran = adata.uns['spatial']['moran']['visium_graph'].loc[gene, \"I\"]\n",
        "    simulated_moran = adata.uns['spatial']['moran_mc']['visium_graph'][gene].iloc[0]['p_sim']\n",
        "    print(f\"{gene} True Moran I: {true_moran}; Simulated Moran I: {simulated_moran}\")"
      ]
    },
    {
      "cell_type": "markdown",
      "id": "04e1e731",
      "metadata": {},
      "source": [
        "As there are 2000 highly variable genes and 2000 tests, these would no longer be significant after correcting for multiple testing.\n",
        "\n",
        "Does global Moran’s I relate to gene expression level?"
      ]
    },
    {
      "cell_type": "code",
      "execution_count": null,
      "id": "57037037",
      "metadata": {},
      "outputs": [],
      "source": [
        "raw_counts = adata.layers['counts']\n",
        "\n",
        "if issparse(raw_counts):\n",
        "    # For sparse matrices, compute the mean across the rows (genes)\n",
        "    mean_expression_across_spots = np.array(raw_counts.mean(axis=0)).flatten()  # mean along columns\n",
        "else:\n",
        "    # For dense matrices, you can directly use numpy's mean function\n",
        "    mean_expression_across_spots = np.mean(raw_counts, axis=0)  # mean along columns\n",
        "\n",
        "adata.var['mean_expression_across_spots'] = mean_expression_across_spots"
      ]
    },
    {
      "cell_type": "code",
      "execution_count": null,
      "id": "ddf6eea4",
      "metadata": {},
      "outputs": [],
      "source": [
        "x=adata.var.loc[adata.var['highly_variable'], 'mean_expression_across_spots']\n",
        "y=adata.var['moran']\n",
        "\n",
        "plot_data = pd.DataFrame({\n",
        "    'mean_expression_across_spots': x,\n",
        "    'moran': y\n",
        "}).dropna()\n",
        "\n",
        "xy = np.vstack([plot_data.mean_expression_across_spots, plot_data.moran])\n",
        "z = gaussian_kde(xy)(xy)\n",
        "\n",
        "# Sort the points by density, so the densest points are plotted last\n",
        "plot_data['density'] = z\n",
        "plot_data = plot_data.sort_values(by='density')\n",
        "\n",
        "blues_cmap = plt.cm.get_cmap('Blues7')\n",
        "\n",
        "# Shift the starting point of the colormap\n",
        "start_point = 0.25\n",
        "shifted_blues_cmap = LinearSegmentedColormap.from_list(\n",
        "    'shifted_blues', blues_cmap(np.linspace(start_point, 1, 256)))\n",
        "\n",
        "plt.figure(figsize=(4,4))\n",
        "scatterplot = plt.scatter('mean_expression_across_spots', 'moran', data=plot_data, c=plot_data['density'], cmap=shifted_blues_cmap, s=10)\n",
        "plt.colorbar(scatterplot, label='Density')\n",
        "plt.xlabel('Mean Expression Across Spots')\n",
        "plt.xscale('log')\n",
        "plt.ylabel('Moran’s I')\n",
        "plt.title('Scatter Plot with Density Dependent Coloring')\n",
        "\n",
        "plt.show()"
      ]
    },
    {
      "cell_type": "markdown",
      "id": "9271a517",
      "metadata": {},
      "source": [
        "Genes that are more highly expressed overall tend to have higher Moran’s I."
      ]
    },
    {
      "cell_type": "markdown",
      "id": "dccfc0d7",
      "metadata": {},
      "source": [
        "# Apply spatial analysis methods to gene expression space\n",
        "\n",
        "Spatial statistics that require a spatial neighborhood graph can also be applied to the k nearest neighbor graph not in histological space but in gene expression space. This is done in more depth in [this vignette](https://pmelsted.github.io/voyagerpy/examples/nonspatial.html)."
      ]
    },
    {
      "cell_type": "code",
      "execution_count": null,
      "id": "4aa6b559",
      "metadata": {},
      "outputs": [],
      "source": [
        "vp.utils.log_norm_counts(adata, inplace=True)\n",
        "adata.X = vp.utils.scale(adata.X, center=True)\n",
        "\n",
        "sc.tl.pca(adata, use_highly_variable=True, n_comps=30, random_state=1337)\n",
        "adata.X = adata.layers['logcounts'].copy()"
      ]
    },
    {
      "cell_type": "code",
      "execution_count": null,
      "id": "d8a706cd",
      "metadata": {},
      "outputs": [],
      "source": [
        "sc.pp.neighbors(\n",
        "    adata,\n",
        "    n_pcs=10,\n",
        "    use_rep='X_pca',\n",
        "    knn=True,\n",
        "    n_neighbors=10,\n",
        "    key_added='knn'\n",
        ")"
      ]
    },
    {
      "cell_type": "code",
      "execution_count": null,
      "id": "517e8dbe",
      "metadata": {},
      "outputs": [],
      "source": [
        "dist = adata.obsp['knn_distances'].copy()\n",
        "dist.data = 1 / dist.data\n",
        "\n",
        "# row normalize the matrix, this makes the matrix dense.\n",
        "dist /= dist.sum(axis=1)\n",
        "\n",
        "# convert dist back to sparse matrix\n",
        "adata.obsp[\"knn_weights\"] = csr_matrix(dist)\n",
        "\n",
        "del dist\n",
        "\n",
        "knn_graph = \"knn_weights\"\n",
        "\n",
        "adata.obsp[\"knn_connectivities\"] = (adata.obsp[knn_graph] > 0).astype(int)\n",
        "vp.spatial.set_default_graph(adata, knn_graph)\n",
        "vp.spatial.to_spatial_weights(adata, graph_name=knn_graph)"
      ]
    },
    {
      "cell_type": "code",
      "execution_count": null,
      "id": "82cacd31",
      "metadata": {},
      "outputs": [],
      "source": [
        "morans = vp.spatial.moran(adata, hvgs, dim = 'var', graph_name=knn_graph)"
      ]
    },
    {
      "cell_type": "markdown",
      "id": "414fbf49",
      "metadata": {},
      "source": [
        "These are the genes that tend to be more similar to their neighbors in the 10 nearest neighbor graph in PCA space for gene expression rather than in histological space:"
      ]
    },
    {
      "cell_type": "code",
      "execution_count": null,
      "id": "20311290",
      "metadata": {},
      "outputs": [],
      "source": [
        "knn_moran_df = pd.DataFrame(adata.uns['spatial']['moran'][knn_graph])\n",
        "adata.var['moran_knn'] = adata.var.index.map(knn_moran_df['I'])\n",
        "\n",
        "top_moran2 = adata.var[adata.var['highly_variable']]['moran_knn'] \\\n",
        "                    .dropna() \\\n",
        "                    .sort_values(ascending=False) \\\n",
        "                    .head(9) \\\n",
        "                    .index.tolist()\n",
        "\n",
        "_ = vp.plt.plot_spatial_feature(\n",
        "    adata,\n",
        "    top_moran2[:9],\n",
        "    layer = 'logcounts',\n",
        "    ncol = 3,\n",
        "    subplot_kwargs=dict(\n",
        "        figsize=(6,6),\n",
        "        layout='constrained',\n",
        "    ),\n",
        "    image_kwargs=dict(crop=True)\n",
        ")"
      ]
    },
    {
      "cell_type": "markdown",
      "id": "0127223e",
      "metadata": {},
      "source": [
        "Although this Moran’s I was not computed in histological space, these genes with the highest Moran’s I in PCA space also show spatial structure, as different cell types reside in different spatial regions."
      ]
    },
    {
      "cell_type": "markdown",
      "id": "ee00e05d",
      "metadata": {},
      "source": [
        "# Session info"
      ]
    },
    {
      "cell_type": "code",
      "execution_count": null,
      "id": "65c573b2",
      "metadata": {},
      "outputs": [],
      "source": [
        "%load_ext watermark\n",
        "%watermark -v -m --iversions\n",
        "# %watermark -v -m --iversions -p package1,package2,etc"
      ]
    }
  ],
  "metadata": {
    "colab": {
      "provenance": []
    },
    "kernelspec": {
      "display_name": "Python 3 (ipykernel)",
      "language": "python",
      "name": "python3"
    },
    "language_info": {
      "codemirror_mode": {
        "name": "ipython",
        "version": 3
      },
      "file_extension": ".py",
      "mimetype": "text/x-python",
      "name": "python",
      "nbconvert_exporter": "python",
      "pygments_lexer": "ipython3",
      "version": "3.9.18"
    }
  },
  "nbformat": 4,
  "nbformat_minor": 5
}
