{
 "cells": [
  {
   "attachments": {},
   "cell_type": "markdown",
   "id": "4aab9ad9-02c2-47ba-86ac-6fac01721f06",
   "metadata": {},
   "source": [
    "# Basic analysis of 10X example Visium dataset\n",
    "## Introduction\n",
    "\n",
    "In this introductory notebook for VoyagerPy, we demonstrate basic exploratory data analysis (*EDA*) of spatial transcriptomics data. Basic knowledge of Python is assumed.\n",
    "\n",
    "This notebook showcases the packages with a Visium spatial gene expression system dataset, downloaded from the 10X website, in the [Space Ranger output format](https://support.10xgenomics.com/spatial-gene-expression/software/pipelines/latest/output/overview). The technology was chosen due to its popularity, and therefore the availability of numerous publicly available datasets for analysis (Moses and Pachter 2022).\n",
    "\n",
    "VoyagerPy was developed with the goal of facilitating the use of geospatial methods in spatial genomics. However, this notebook is introductory to the package and is restricted to non-spatial scRNA-seq EDA with the Visium dataset.\n",
    "\n",
    "**Note**: This notebook has an [accompanying vignette](https://pachterlab.github.io/voyager/articles/visium_10x.html) in R, so we try to match the results as well as we can.\n",
    "\n",
    "**Note**: Before running this notebook, make sure you have [Scanpy](https://scanpy.readthedocs.io/en/stable/), [igraph](https://python.igraph.org/en/stable/), and [leidenalg](https://leidenalg.readthedocs.io/en/stable/) installed. These packages can be installed via `pip install \"scanpy[leiden]\"`."
   ]
  },
  {
   "cell_type": "markdown",
   "id": "7c60959b-b30e-4d98-bac1-f2ba36137ce6",
   "metadata": {},
   "source": [
    "We start by loading the basic packages"
   ]
  },
  {
   "cell_type": "code",
   "execution_count": null,
   "id": "cf3f5c88",
   "metadata": {},
   "outputs": [],
   "source": [
    "import numpy as np\n",
    "import geopandas as gpd\n",
    "import pandas as pd\n",
    "\n",
    "import scanpy as sc\n",
    "import voyagerpy as vp\n",
    "\n",
    "from matplotlib import pyplot as plt\n",
    "\n",
    "# We set the dpi to get clearer figures\n",
    "plt.rcParams['figure.dpi'] = 120  # The default is 100\n",
    "\n",
    "# Turn on matplotlib interactive mode so we don't need to explicitly call plt.show()\n",
    "plt.ion()"
   ]
  },
  {
   "cell_type": "markdown",
   "id": "0b323c84",
   "metadata": {
    "tags": []
   },
   "source": [
    "## Downloading the data\n",
    "\n",
    "We download the raw count data from the 10X website. These are two gzipped tar archives containing the unfiltered gene count matrix and the spatial information. Thus, we unzip the files."
   ]
  },
  {
   "cell_type": "code",
   "execution_count": null,
   "id": "1a2d9021",
   "metadata": {},
   "outputs": [],
   "source": [
    "import requests\n",
    "import pathlib\n",
    "import json\n",
    "\n",
    "outs_dir = pathlib.Path('data/visium_10x/outs')\n",
    "outs_dir.mkdir(parents=True, exist_ok=True)\n",
    "root_dir = (outs_dir / '..').resolve()\n",
    "\n",
    "# Download the gene count matrix\n",
    "tar_path_ob = root_dir / 'visium_ob.tar.gz'\n",
    "url_reads = \"https://cf.10xgenomics.com/samples/spatial-exp/2.0.0/Visium_Mouse_Olfactory_Bulb/Visium_Mouse_Olfactory_Bulb_raw_feature_bc_matrix.tar.gz\"\n",
    "if not tar_path_ob.exists():\n",
    "    res = requests.get(url_reads)\n",
    "    with tar_path_ob.open('wb') as f:\n",
    "        f.write(res.content)\n",
    "\n",
    "# Download the spatial information\n",
    "tar_path_sp =  root_dir / 'visium_ob_spatial.tar.gz'\n",
    "url_spatial = \"https://cf.10xgenomics.com/samples/spatial-exp/2.0.0/Visium_Mouse_Olfactory_Bulb/Visium_Mouse_Olfactory_Bulb_spatial.tar.gz\"\n",
    "if not tar_path_sp.exists():\n",
    "    res = requests.get(url_spatial)\n",
    "    with tar_path_sp.open('wb') as f:\n",
    "        f.write(res.content)\n",
    "\n",
    "# Decompress the downloaded files\n",
    "!tar -xvf $tar_path_ob -C $outs_dir \n",
    "!tar -xvf $tar_path_sp -C $outs_dir "
   ]
  },
  {
   "cell_type": "markdown",
   "id": "8f4908a1",
   "metadata": {},
   "source": [
    "This is what the layout of the `outs` directory looks like. The outputs in the spatial directory is explained [here on the 10X website](https://support.10xgenomics.com/spatial-gene-expression/software/pipelines/latest/output/spatial)."
   ]
  },
  {
   "cell_type": "code",
   "execution_count": null,
   "id": "effede68",
   "metadata": {},
   "outputs": [],
   "source": [
    "def print_dir_content(p, d=0):\n",
    "    print(' '*(d*2) + p.name, end='/\\n' if p.is_dir() else '\\n')\n",
    "    if p.is_dir():\n",
    "        for sub in sorted(p.iterdir()):\n",
    "            print_dir_content(sub, d+1)\n",
    "\n",
    "has_tree = !command -v tree\n",
    "if has_tree:\n",
    "    !tree $outs_dir\n",
    "else:\n",
    "    print_dir_content(outs_dir)"
   ]
  },
  {
   "cell_type": "markdown",
   "id": "e30cf7ee",
   "metadata": {},
   "source": [
    "The `tissue_hires_image.png` file is a relatively high resolution image of the tissue, but not full resolution. The `tissue_lowres_image.png` file is a low resolution image of the tissue, suitable for quick plotting."
   ]
  },
  {
   "cell_type": "code",
   "execution_count": null,
   "id": "a4dbf617",
   "metadata": {},
   "outputs": [],
   "source": [
    "im = plt.imread(outs_dir/'spatial' / 'tissue_hires_image.png')\n",
    "_ = plt.imshow(im, origin='lower')"
   ]
  },
  {
   "cell_type": "markdown",
   "id": "8fbfe3d5-063e-4d7a-a04e-b0ca13d16a17",
   "metadata": {},
   "source": [
    "The array of dots surrounding the tissue is the fiducials. These are used for aligning the image to the positions of the Visium spots, so gene expression can be matched to spatial locations. The alignment of the fiducials are shown in `aligned_fiducials.jpg`. Space Ranger can automatically detect which spots are in tissue. These spots are highlighted in `detected_tissue_image.jpg` and have `in_tissue == 1` in `tissue_positions.csv`."
   ]
  },
  {
   "cell_type": "markdown",
   "id": "54d81752-bda5-4275-ba04-335af3185adf",
   "metadata": {},
   "source": [
    "The `scale_factors_json.json` describes how we go from full-res coordinates to the lower resolution coordinates. It also contains the sizes of the spots and fiducials."
   ]
  },
  {
   "cell_type": "markdown",
   "id": "95bcc11a-5214-4567-80d6-bd967c938bc5",
   "metadata": {},
   "source": [
    "`spot_diameter_fullres` is the diameter of each Visium spot in the full resolution pixel space. The scalars `tissue_hires_scalef` and `tisse_lowres_scalef` are the ratios of the *hires* and *lowres* images to the *fullres* image. `fiducial_diameter_fullres` is the diameter of each fiducial in full resolution. "
   ]
  },
  {
   "cell_type": "code",
   "execution_count": null,
   "id": "66fd524f",
   "metadata": {},
   "outputs": [],
   "source": [
    "json.load((outs_dir / 'spatial' / 'scalefactors_json.json').open())"
   ]
  },
  {
   "cell_type": "markdown",
   "id": "0207e635-b68a-489a-a4f4-fcf2939b398d",
   "metadata": {},
   "source": [
    "The file `tissue_positions.csv` contains information for the Visium spots in the image;\n",
    "* barcode\n",
    "* `in_tissue`: whether the barcode is covered by tissue (1) or not (0), as detected by Space Ranger, or manually annotated in the Loupe browser.\n",
    "* `array_row` / `array_col`: The grid position of the spot on the Visium slide.\n",
    "* `pxl_row_in_fullres` / `pxl_col_in_fullres`: The pixel position of the spots in the full resolution image."
   ]
  },
  {
   "cell_type": "code",
   "execution_count": null,
   "id": "c107ed85",
   "metadata": {},
   "outputs": [],
   "source": [
    "pd.read_csv(outs_dir / 'spatial' / 'tissue_positions.csv').head()"
   ]
  },
  {
   "cell_type": "markdown",
   "id": "89f51251-5d21-45fa-8623-a4d7a720c2f6",
   "metadata": {},
   "source": [
    "The file `spatial_enrichment.csv` contains some information for the genes, e.g. Moran's I and its p-value."
   ]
  },
  {
   "cell_type": "code",
   "execution_count": null,
   "id": "21d5667d",
   "metadata": {},
   "outputs": [],
   "source": [
    "pd.read_csv(outs_dir / 'spatial' / 'spatial_enrichment.csv').head()"
   ]
  },
  {
   "cell_type": "markdown",
   "id": "842dc556",
   "metadata": {},
   "source": [
    "Here we read the Space Ranger output as an AnnData object. Since we have the raw counts, we set `raw = True`. The count matrix is in `.mtx` format, and we want to load the `lowres` image."
   ]
  },
  {
   "cell_type": "code",
   "execution_count": null,
   "id": "f9ba57fd-5ed9-4527-b5ce-d001fff9f436",
   "metadata": {},
   "outputs": [],
   "source": [
    "adata = vp.read_10x_visium(\n",
    "    outs_dir,\n",
    "    datatype = 'mtx',\n",
    "    raw = True,\n",
    "    prefix = None,\n",
    "    symbol_as_index=False,\n",
    "    dtype=np.float64,\n",
    "    res='lowres'\n",
    ")"
   ]
  },
  {
   "cell_type": "markdown",
   "id": "bc189542-8efc-4459-9e6d-6ce75724ee5e",
   "metadata": {},
   "source": [
    "We can use VoyagerPy to display the image stored in the adata object."
   ]
  },
  {
   "cell_type": "code",
   "execution_count": null,
   "id": "4bcaed53-d378-4318-968e-7b592130dc84",
   "metadata": {},
   "outputs": [],
   "source": [
    "_ = vp.plt.imshow(adata)"
   ]
  },
  {
   "cell_type": "markdown",
   "id": "e20d7a01-a38a-4d9c-876d-ed5d3c401b14",
   "metadata": {},
   "source": [
    "The images and coordinates of the Visium spots are aligned. However, according to [the 10X website](https://support.10xgenomics.com/spatial-gene-expression/software/pipelines/latest/algorithms/imaging), a properly aligned slide image should have the hourglass in the top-left corner and the triangle on the bottom left. The rotation of the image does not affect any of the computations, but VoyagerPy offers a way to rotate/mirror the image and the spot coordinates. Here, we rotate and mirror the image to match the fiducials."
   ]
  },
  {
   "cell_type": "code",
   "execution_count": null,
   "id": "18b0b2ef-281d-4f22-b30f-35f7aae7f2b7",
   "metadata": {},
   "outputs": [],
   "source": [
    "fig, axs = plt.subplots(2, 2, figsize=(10,10))\n",
    "\n",
    "vp.plt.imshow(adata, ax=axs[0,0], title='Original')\n",
    "\n",
    "vp.spatial.rotate_img90(adata, k=1, apply=False)\n",
    "vp.plt.imshow(adata, tmp=True, ax=axs[0,1], title='Rotated 90° clockwise - not applied')\n",
    "\n",
    "vp.spatial.mirror_img(adata, axis=1, apply=False)\n",
    "vp.plt.imshow(adata, tmp=True, ax=axs[1, 0], title='Mirror rows - not applied')\n",
    "\n",
    "vp.spatial.apply_transforms(adata)\n",
    "_ = vp.plt.imshow(adata, ax=axs[1,1], title='Transformed image - changes applied')"
   ]
  },
  {
   "cell_type": "markdown",
   "id": "ba217405",
   "metadata": {},
   "source": [
    "## Quality Control (QC)"
   ]
  },
  {
   "cell_type": "markdown",
   "id": "771abcbb-fb3b-4cfc-846c-55e494b675fa",
   "metadata": {},
   "source": [
    "We start off by computing some basic QC metrics for the dataset."
   ]
  },
  {
   "cell_type": "code",
   "execution_count": null,
   "id": "5a05a9ac-aee3-42d0-b631-3831a7cfbc38",
   "metadata": {},
   "outputs": [],
   "source": [
    "is_mt = adata.var['symbol'].str.contains('^mt-').values\n",
    "vp.utils.add_per_cell_qcmetrics(adata, subsets={'mito': is_mt})"
   ]
  },
  {
   "cell_type": "markdown",
   "id": "bc15c08a-ae53-4928-b1c1-f5f87e2adbbe",
   "metadata": {},
   "source": [
    "Now, we need a way to show display data with respect to their histological location.\n",
    "Since we are dealing with a 10X Visium dataset, we know how to access this information. Thus, we add the visium spots as the representative geometry of the barcodes."
   ]
  },
  {
   "cell_type": "code",
   "execution_count": null,
   "id": "6693eb18-7522-43f3-b7f0-ff86ec638d6c",
   "metadata": {},
   "outputs": [],
   "source": [
    "visium_spots = vp.spatial.get_visium_spots(adata, with_radius=True)\n",
    "\n",
    "# Set the geometry to the visium spots and assign the name \"spot_poly\"\n",
    "_ = vp.spatial.set_geometry(adata, geom=\"spot_poly\", values=visium_spots)"
   ]
  },
  {
   "cell_type": "markdown",
   "id": "3b750450-3616-47fe-8a75-95e432de1325",
   "metadata": {},
   "source": [
    "Since we have defined the barcode geometry, we can plot the QC metrics in tissue space."
   ]
  },
  {
   "cell_type": "code",
   "execution_count": null,
   "id": "464cf629-7db1-4afb-a5bf-e0bbaa4ac092",
   "metadata": {},
   "outputs": [],
   "source": [
    "qc_features = [\"sum\", \"detected\", \"subsets_mito_percent\"]\n",
    "axs = vp.plt.plot_spatial_feature(\n",
    "    adata, \n",
    "    qc_features, \n",
    "    image_kwargs=dict(),\n",
    "    subplot_kwargs=dict(figsize=(8,8), dpi=100, layout='tight')\n",
    ")"
   ]
  },
  {
   "cell_type": "markdown",
   "id": "4d51196b-842b-48cc-b44a-6a9b1444131f",
   "metadata": {},
   "source": [
    "The percentage of mitochondrial counts (`subsets_mito_percent`) in spots outside tissue is higher near the tissue, especially on the left. See the figure above."
   ]
  },
  {
   "cell_type": "code",
   "execution_count": null,
   "id": "de149e0d-d269-4d3d-a294-3430fd4b7bf9",
   "metadata": {},
   "outputs": [],
   "source": [
    "# set the `in_tissue` as a categorical variable.\n",
    "adata.obs['in_tissue'] = adata.obs['in_tissue'].astype(bool).astype('category')\n",
    "\n",
    "axs = vp.plt.plot_barcode_data(\n",
    "    adata, \n",
    "    y=qc_features,\n",
    "    x='in_tissue',\n",
    "    ncol=3,\n",
    "    figsize=(8, 4),\n",
    "    cmap='tab10',\n",
    ")"
   ]
  },
  {
   "cell_type": "markdown",
   "id": "c5982716-024e-4832-9268-24beb0b3f6a3",
   "metadata": {},
   "source": [
    "Here we can see see three peaks, apparently histologicaly relevant, but no obvious outliers."
   ]
  },
  {
   "cell_type": "code",
   "execution_count": null,
   "id": "af48d302-953c-48ef-a4ba-e82f37c130ac",
   "metadata": {},
   "outputs": [],
   "source": [
    "_ = vp.plt.plot_barcode_data(\n",
    "    adata, \n",
    "    x='sum', \n",
    "    y='subsets_mito_percent', \n",
    "    color_by='in_tissue', \n",
    "    cmap='tab10',\n",
    "    contour_kwargs=dict(colors='blue', levels=9),\n",
    ")"
   ]
  },
  {
   "cell_type": "markdown",
   "id": "39c555d1-e353-4ebb-ba62-2cee89302203",
   "metadata": {},
   "source": [
    "This is unlike scRNA-data. Spots not in tissue have a wide range of mitochondrial percentage. Spots in tissue fall into three clusters in the above plot, seemingly related to histological regions."
   ]
  },
  {
   "cell_type": "markdown",
   "id": "de28c3da-b2ee-4878-9a43-099d19359c70",
   "metadata": {},
   "source": [
    "Now, we select only visium spots covered by the tissue. Due to the internals of AnnData, we must copy the sliced object and set the geometry of `adata_tissue` again."
   ]
  },
  {
   "cell_type": "code",
   "execution_count": null,
   "id": "e01a61a4",
   "metadata": {},
   "outputs": [],
   "source": [
    "adata_tissue = adata[adata.obs[\"in_tissue\"]==True].copy()\n",
    "vp.spatial.set_geometry(adata_tissue, \"spot_poly\")"
   ]
  },
  {
   "cell_type": "code",
   "execution_count": null,
   "id": "7643beb0-9eec-468d-bb81-bbe79993a962",
   "metadata": {},
   "outputs": [],
   "source": [
    "ax = vp.plotting.plot_barcodes_bin2d(\n",
    "    adata_tissue, \n",
    "    x='sum', \n",
    "    y='detected',\n",
    "    bins=76,\n",
    "    figsize=(10, 7)\n",
    ")"
   ]
  },
  {
   "cell_type": "markdown",
   "id": "bf6ce0f0-59b3-4067-a946-b5450dffdf1f",
   "metadata": {},
   "source": [
    "In order to preserve the counts and the log-normalized counts, we save them as layers. This is because we will normalize `adata_tissue.X` before we perform PCA in this notebook."
   ]
  },
  {
   "cell_type": "code",
   "execution_count": null,
   "id": "3e2ffb34-61a1-4465-94f5-41f00eec7fd9",
   "metadata": {},
   "outputs": [],
   "source": [
    "# The original count data\n",
    "adata_tissue.layers['counts'] = adata_tissue.X.copy()\n",
    "# Log-normalize the adata.X matrix\n",
    "vp.utils.log_norm_counts(adata_tissue, inplace=True)\n",
    "adata_tissue.layers['logcounts'] = adata_tissue.X.copy()"
   ]
  },
  {
   "cell_type": "markdown",
   "id": "71eb0f17-ff32-452e-9450-e261571c4fbf",
   "metadata": {},
   "source": [
    "Next, we select the top 2000 highly variable genes. We use the `model_gene_var` to model the variance of the gene expression, decomposing the perceived variance into biological variance and technological variance. The biological variance is what we are interested in."
   ]
  },
  {
   "cell_type": "code",
   "execution_count": null,
   "id": "496903a9-28cc-448f-84ca-d1f607dc537f",
   "metadata": {},
   "outputs": [],
   "source": [
    "gene_var = vp.utils.model_gene_var(adata_tissue.layers['logcounts'], gene_names=adata_tissue.var_names)\n",
    "hvgs = vp.utils.get_top_hvgs(gene_var)\n",
    "\n",
    "# Set the 'highly_variable' column for the genes\n",
    "adata_tissue.var['highly_variable'] = False\n",
    "adata_tissue.var.loc[hvgs, 'highly_variable'] = True"
   ]
  },
  {
   "cell_type": "markdown",
   "id": "b5c2cbaa-b443-4bae-b986-52a3f6335ddd",
   "metadata": {},
   "source": [
    "## Dimension reduction and clustering"
   ]
  },
  {
   "cell_type": "markdown",
   "id": "0d647f2e-4f46-48de-b1ac-9cd9941ac7aa",
   "metadata": {},
   "source": [
    "In the [companion vignette](https://pachterlab.github.io/voyager/articles/visium_10x.html#dimension-reduction-and-clustering), the data is scaled prior to computing the PCA. Thus, we follow suit."
   ]
  },
  {
   "cell_type": "code",
   "execution_count": null,
   "id": "62c32c11-6f73-4b74-9edb-8dbe9f9978a8",
   "metadata": {},
   "outputs": [],
   "source": [
    "# scale first, then perform pca\n",
    "\n",
    "adata_tissue.X = vp.utils.scale(adata_tissue.X, center=True)\n",
    "sc.tl.pca(adata_tissue, use_highly_variable=True, n_comps=30, random_state=1337)\n",
    "adata_tissue.X = adata_tissue.layers['logcounts'].copy()"
   ]
  },
  {
   "cell_type": "code",
   "execution_count": null,
   "id": "2a108ae7-a2b6-4d89-a357-6510b8a995a5",
   "metadata": {},
   "outputs": [],
   "source": [
    "_ = vp.plt.elbow_plot(adata_tissue, ndims=30)"
   ]
  },
  {
   "cell_type": "code",
   "execution_count": null,
   "id": "370877eb-596f-470a-a618-1aa127372492",
   "metadata": {},
   "outputs": [],
   "source": [
    "ax = vp.plt.plot_dim_loadings(\n",
    "    adata_tissue, \n",
    "    range(5), \n",
    "    show_symbol=True, \n",
    "    ncol=3, \n",
    "    figsize=(7, 5),\n",
    ")"
   ]
  },
  {
   "cell_type": "markdown",
   "id": "4b2ced1b-30d8-4ff3-8218-ab1343e33995",
   "metadata": {},
   "source": [
    "Cluster the barcodes in PCA space. We adjusted the `n_neighbors` parameter to find similar clustering as in the R vignette."
   ]
  },
  {
   "cell_type": "code",
   "execution_count": null,
   "id": "49e40f3e-7ea1-430d-8f6e-740e2372c92f",
   "metadata": {},
   "outputs": [],
   "source": [
    "from leidenalg import ModularityVertexPartition\n",
    "\n",
    "sc.pp.neighbors(\n",
    "    adata_tissue, \n",
    "    n_pcs=3, \n",
    "    use_rep='X_pca', \n",
    "    method='gauss', \n",
    "    n_neighbors=80\n",
    ")\n",
    "sc.tl.leiden(\n",
    "    adata_tissue, \n",
    "    random_state=29, \n",
    "    resolution=None,\n",
    "    key_added='cluster',\n",
    "    partition_type=ModularityVertexPartition\n",
    ")"
   ]
  },
  {
   "cell_type": "code",
   "execution_count": null,
   "id": "9d269ed8-83b9-41c1-a702-87cb6cc24c56",
   "metadata": {},
   "outputs": [],
   "source": [
    "ax = vp.plt.plot_pca(\n",
    "    adata_tissue, \n",
    "    figsize=(7,7), \n",
    "    ndim=5, \n",
    "    color_by='cluster', \n",
    "    cmap='tab10',\n",
    ")"
   ]
  },
  {
   "cell_type": "code",
   "execution_count": null,
   "id": "9c1f3511-2fe7-4f63-9429-2b073e49e011",
   "metadata": {},
   "outputs": [],
   "source": [
    "ax = vp.plt.plot_spatial_feature(\n",
    "    adata_tissue, \n",
    "    'cluster', \n",
    "    barcode_geom='spot_poly', \n",
    "    image_kwargs=dict(crop=True, pad=10),\n",
    ")"
   ]
  },
  {
   "cell_type": "code",
   "execution_count": null,
   "id": "0342ca9d-488f-47d0-9655-d2c7d9cd2892",
   "metadata": {},
   "outputs": [],
   "source": [
    "pl = vp.plt.spatial_reduced_dim(\n",
    "    adata_tissue, \n",
    "    \"X_pca\", \n",
    "    ncomponents=5, \n",
    "    ncol=2, \n",
    "    divergent=True,\n",
    "    figsize=(7,7),\n",
    "    image_kwargs=dict(crop=True),\n",
    ")"
   ]
  },
  {
   "cell_type": "markdown",
   "id": "df1ee13f-2217-4790-ba23-b7461822aebb",
   "metadata": {},
   "source": [
    "Significant markers for each cluster are obtained as follows. Note, that since the clustering is not identical between [bluster](https://bioconductor.org/packages/release/bioc/html/bluster.html) and Scanpy, the marker genes will vary slightly."
   ]
  },
  {
   "cell_type": "code",
   "execution_count": null,
   "id": "bdc9accc-e1db-45fd-b6ed-f7efe35af229",
   "metadata": {},
   "outputs": [],
   "source": [
    "markers = vp.utils.get_marker_genes(adata_tissue, False, cluster='cluster')\n",
    "marker_genes = markers.iloc[0, :].tolist()"
   ]
  },
  {
   "cell_type": "code",
   "execution_count": null,
   "id": "36344963-5753-486b-8cee-116e9000beb0",
   "metadata": {},
   "outputs": [],
   "source": [
    "adata_tissue.var.loc[marker_genes, ['symbol']]"
   ]
  },
  {
   "cell_type": "code",
   "execution_count": null,
   "id": "1f7822d5-78a0-4c26-be1b-7f9e35a0c32a",
   "metadata": {},
   "outputs": [],
   "source": [
    "_ = vp.plt.plot_expression(\n",
    "    adata_tissue, \n",
    "    marker_genes,\n",
    "    groupby='cluster', \n",
    "    show_symbol=True, \n",
    "    layer='logcounts',\n",
    "    cmap='tab10',\n",
    "    figsize=(9,7),\n",
    "    scatter_points=False\n",
    ")"
   ]
  },
  {
   "cell_type": "markdown",
   "id": "27fffdb1-4fa5-46b7-9715-9d55428b13df",
   "metadata": {},
   "source": [
    "These genes show some interesting patterns in spatial context:"
   ]
  },
  {
   "cell_type": "code",
   "execution_count": null,
   "id": "5f431968",
   "metadata": {},
   "outputs": [],
   "source": [
    "_ = vp.plt.plot_spatial_feature(\n",
    "    adata_tissue,\n",
    "    marker_genes,\n",
    "    ncol = 2,\n",
    "    layer='logcounts',\n",
    "    subplot_kwargs=dict(\n",
    "        figsize=(7,7),\n",
    "        layout='constrained',\n",
    "    ),\n",
    "    image_kwargs=dict(crop=True)\n",
    ")"
   ]
  }
 ],
 "metadata": {
  "language_info": {
   "name": "python"
  }
 },
 "nbformat": 4,
 "nbformat_minor": 5
}
